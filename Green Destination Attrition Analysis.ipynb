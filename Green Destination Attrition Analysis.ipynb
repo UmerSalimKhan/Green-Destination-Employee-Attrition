{
 "cells": [
  {
   "cell_type": "markdown",
   "id": "fa6a6611-b1a3-4d39-99a1-08948e0c977d",
   "metadata": {},
   "source": [
    "# Green Destination Analysis\n",
    "\n",
    "![Green Logo](Others/greendestination_logo.png)\n",
    "\n",
    "### Green Destination is a global company for helping in tourism and providing tourism services.\n",
    "\n",
    "## Problem Statement:\n",
    "![Green Problem Statement](Others/greendestination_ps.png)"
   ]
  },
  {
   "cell_type": "markdown",
   "id": "24db163b-7516-4bbd-b403-31453dd7634d",
   "metadata": {},
   "source": [
    "# Import Libraries"
   ]
  },
  {
   "cell_type": "code",
   "execution_count": 1,
   "id": "c1cc38f5-c8c2-4b85-8a70-5a73d12f1db0",
   "metadata": {},
   "outputs": [],
   "source": [
    "import numpy as np\n",
    "import pandas as pd\n",
    "import matplotlib.pyplot as plt\n",
    "import seaborn as sns"
   ]
  },
  {
   "cell_type": "markdown",
   "id": "cbea6db1-f933-4b6e-80a2-61901f6b6277",
   "metadata": {},
   "source": [
    "# Load the data"
   ]
  },
  {
   "cell_type": "code",
   "execution_count": 2,
   "id": "f142c54a-b3b4-4d51-877f-b8237b70f59d",
   "metadata": {},
   "outputs": [],
   "source": [
    "green_df = pd.read_csv(\"Others//greendestination.csv\")"
   ]
  },
  {
   "cell_type": "markdown",
   "id": "bdb3e2a1-ce10-4a3c-a0b9-599d2ab20573",
   "metadata": {},
   "source": [
    "# Analyze the data"
   ]
  },
  {
   "cell_type": "code",
   "execution_count": 3,
   "id": "e226ddb5-7aa7-437d-aa24-f52c18eb8a96",
   "metadata": {},
   "outputs": [
    {
     "data": {
      "text/html": [
       "<div>\n",
       "<style scoped>\n",
       "    .dataframe tbody tr th:only-of-type {\n",
       "        vertical-align: middle;\n",
       "    }\n",
       "\n",
       "    .dataframe tbody tr th {\n",
       "        vertical-align: top;\n",
       "    }\n",
       "\n",
       "    .dataframe thead th {\n",
       "        text-align: right;\n",
       "    }\n",
       "</style>\n",
       "<table border=\"1\" class=\"dataframe\">\n",
       "  <thead>\n",
       "    <tr style=\"text-align: right;\">\n",
       "      <th></th>\n",
       "      <th>Age</th>\n",
       "      <th>Attrition</th>\n",
       "      <th>BusinessTravel</th>\n",
       "      <th>DailyRate</th>\n",
       "      <th>Department</th>\n",
       "      <th>DistanceFromHome</th>\n",
       "      <th>Education</th>\n",
       "      <th>EducationField</th>\n",
       "      <th>EmployeeCount</th>\n",
       "      <th>EmployeeNumber</th>\n",
       "      <th>...</th>\n",
       "      <th>RelationshipSatisfaction</th>\n",
       "      <th>StandardHours</th>\n",
       "      <th>StockOptionLevel</th>\n",
       "      <th>TotalWorkingYears</th>\n",
       "      <th>TrainingTimesLastYear</th>\n",
       "      <th>WorkLifeBalance</th>\n",
       "      <th>YearsAtCompany</th>\n",
       "      <th>YearsInCurrentRole</th>\n",
       "      <th>YearsSinceLastPromotion</th>\n",
       "      <th>YearsWithCurrManager</th>\n",
       "    </tr>\n",
       "  </thead>\n",
       "  <tbody>\n",
       "    <tr>\n",
       "      <th>0</th>\n",
       "      <td>41</td>\n",
       "      <td>Yes</td>\n",
       "      <td>Travel_Rarely</td>\n",
       "      <td>1102</td>\n",
       "      <td>Sales</td>\n",
       "      <td>1</td>\n",
       "      <td>2</td>\n",
       "      <td>Life Sciences</td>\n",
       "      <td>1</td>\n",
       "      <td>1</td>\n",
       "      <td>...</td>\n",
       "      <td>1</td>\n",
       "      <td>80</td>\n",
       "      <td>0</td>\n",
       "      <td>8</td>\n",
       "      <td>0</td>\n",
       "      <td>1</td>\n",
       "      <td>6</td>\n",
       "      <td>4</td>\n",
       "      <td>0</td>\n",
       "      <td>5</td>\n",
       "    </tr>\n",
       "    <tr>\n",
       "      <th>1</th>\n",
       "      <td>49</td>\n",
       "      <td>No</td>\n",
       "      <td>Travel_Frequently</td>\n",
       "      <td>279</td>\n",
       "      <td>Research &amp; Development</td>\n",
       "      <td>8</td>\n",
       "      <td>1</td>\n",
       "      <td>Life Sciences</td>\n",
       "      <td>1</td>\n",
       "      <td>2</td>\n",
       "      <td>...</td>\n",
       "      <td>4</td>\n",
       "      <td>80</td>\n",
       "      <td>1</td>\n",
       "      <td>10</td>\n",
       "      <td>3</td>\n",
       "      <td>3</td>\n",
       "      <td>10</td>\n",
       "      <td>7</td>\n",
       "      <td>1</td>\n",
       "      <td>7</td>\n",
       "    </tr>\n",
       "    <tr>\n",
       "      <th>2</th>\n",
       "      <td>37</td>\n",
       "      <td>Yes</td>\n",
       "      <td>Travel_Rarely</td>\n",
       "      <td>1373</td>\n",
       "      <td>Research &amp; Development</td>\n",
       "      <td>2</td>\n",
       "      <td>2</td>\n",
       "      <td>Other</td>\n",
       "      <td>1</td>\n",
       "      <td>4</td>\n",
       "      <td>...</td>\n",
       "      <td>2</td>\n",
       "      <td>80</td>\n",
       "      <td>0</td>\n",
       "      <td>7</td>\n",
       "      <td>3</td>\n",
       "      <td>3</td>\n",
       "      <td>0</td>\n",
       "      <td>0</td>\n",
       "      <td>0</td>\n",
       "      <td>0</td>\n",
       "    </tr>\n",
       "    <tr>\n",
       "      <th>3</th>\n",
       "      <td>33</td>\n",
       "      <td>No</td>\n",
       "      <td>Travel_Frequently</td>\n",
       "      <td>1392</td>\n",
       "      <td>Research &amp; Development</td>\n",
       "      <td>3</td>\n",
       "      <td>4</td>\n",
       "      <td>Life Sciences</td>\n",
       "      <td>1</td>\n",
       "      <td>5</td>\n",
       "      <td>...</td>\n",
       "      <td>3</td>\n",
       "      <td>80</td>\n",
       "      <td>0</td>\n",
       "      <td>8</td>\n",
       "      <td>3</td>\n",
       "      <td>3</td>\n",
       "      <td>8</td>\n",
       "      <td>7</td>\n",
       "      <td>3</td>\n",
       "      <td>0</td>\n",
       "    </tr>\n",
       "    <tr>\n",
       "      <th>4</th>\n",
       "      <td>27</td>\n",
       "      <td>No</td>\n",
       "      <td>Travel_Rarely</td>\n",
       "      <td>591</td>\n",
       "      <td>Research &amp; Development</td>\n",
       "      <td>2</td>\n",
       "      <td>1</td>\n",
       "      <td>Medical</td>\n",
       "      <td>1</td>\n",
       "      <td>7</td>\n",
       "      <td>...</td>\n",
       "      <td>4</td>\n",
       "      <td>80</td>\n",
       "      <td>1</td>\n",
       "      <td>6</td>\n",
       "      <td>3</td>\n",
       "      <td>3</td>\n",
       "      <td>2</td>\n",
       "      <td>2</td>\n",
       "      <td>2</td>\n",
       "      <td>2</td>\n",
       "    </tr>\n",
       "  </tbody>\n",
       "</table>\n",
       "<p>5 rows × 35 columns</p>\n",
       "</div>"
      ],
      "text/plain": [
       "   Age Attrition     BusinessTravel  DailyRate              Department  \\\n",
       "0   41       Yes      Travel_Rarely       1102                   Sales   \n",
       "1   49        No  Travel_Frequently        279  Research & Development   \n",
       "2   37       Yes      Travel_Rarely       1373  Research & Development   \n",
       "3   33        No  Travel_Frequently       1392  Research & Development   \n",
       "4   27        No      Travel_Rarely        591  Research & Development   \n",
       "\n",
       "   DistanceFromHome  Education EducationField  EmployeeCount  EmployeeNumber  \\\n",
       "0                 1          2  Life Sciences              1               1   \n",
       "1                 8          1  Life Sciences              1               2   \n",
       "2                 2          2          Other              1               4   \n",
       "3                 3          4  Life Sciences              1               5   \n",
       "4                 2          1        Medical              1               7   \n",
       "\n",
       "   ...  RelationshipSatisfaction StandardHours  StockOptionLevel  \\\n",
       "0  ...                         1            80                 0   \n",
       "1  ...                         4            80                 1   \n",
       "2  ...                         2            80                 0   \n",
       "3  ...                         3            80                 0   \n",
       "4  ...                         4            80                 1   \n",
       "\n",
       "   TotalWorkingYears  TrainingTimesLastYear WorkLifeBalance  YearsAtCompany  \\\n",
       "0                  8                      0               1               6   \n",
       "1                 10                      3               3              10   \n",
       "2                  7                      3               3               0   \n",
       "3                  8                      3               3               8   \n",
       "4                  6                      3               3               2   \n",
       "\n",
       "  YearsInCurrentRole  YearsSinceLastPromotion  YearsWithCurrManager  \n",
       "0                  4                        0                     5  \n",
       "1                  7                        1                     7  \n",
       "2                  0                        0                     0  \n",
       "3                  7                        3                     0  \n",
       "4                  2                        2                     2  \n",
       "\n",
       "[5 rows x 35 columns]"
      ]
     },
     "metadata": {},
     "output_type": "display_data"
    }
   ],
   "source": [
    "# Top rows of dataframe\n",
    "display(green_df.head())"
   ]
  },
  {
   "cell_type": "code",
   "execution_count": 4,
   "id": "720c71ef-874d-4150-b299-d03d20bbb396",
   "metadata": {},
   "outputs": [
    {
     "data": {
      "text/html": [
       "<div>\n",
       "<style scoped>\n",
       "    .dataframe tbody tr th:only-of-type {\n",
       "        vertical-align: middle;\n",
       "    }\n",
       "\n",
       "    .dataframe tbody tr th {\n",
       "        vertical-align: top;\n",
       "    }\n",
       "\n",
       "    .dataframe thead th {\n",
       "        text-align: right;\n",
       "    }\n",
       "</style>\n",
       "<table border=\"1\" class=\"dataframe\">\n",
       "  <thead>\n",
       "    <tr style=\"text-align: right;\">\n",
       "      <th></th>\n",
       "      <th>Age</th>\n",
       "      <th>Attrition</th>\n",
       "      <th>BusinessTravel</th>\n",
       "      <th>DailyRate</th>\n",
       "      <th>Department</th>\n",
       "      <th>DistanceFromHome</th>\n",
       "      <th>Education</th>\n",
       "      <th>EducationField</th>\n",
       "      <th>EmployeeCount</th>\n",
       "      <th>EmployeeNumber</th>\n",
       "      <th>...</th>\n",
       "      <th>RelationshipSatisfaction</th>\n",
       "      <th>StandardHours</th>\n",
       "      <th>StockOptionLevel</th>\n",
       "      <th>TotalWorkingYears</th>\n",
       "      <th>TrainingTimesLastYear</th>\n",
       "      <th>WorkLifeBalance</th>\n",
       "      <th>YearsAtCompany</th>\n",
       "      <th>YearsInCurrentRole</th>\n",
       "      <th>YearsSinceLastPromotion</th>\n",
       "      <th>YearsWithCurrManager</th>\n",
       "    </tr>\n",
       "  </thead>\n",
       "  <tbody>\n",
       "    <tr>\n",
       "      <th>1465</th>\n",
       "      <td>36</td>\n",
       "      <td>No</td>\n",
       "      <td>Travel_Frequently</td>\n",
       "      <td>884</td>\n",
       "      <td>Research &amp; Development</td>\n",
       "      <td>23</td>\n",
       "      <td>2</td>\n",
       "      <td>Medical</td>\n",
       "      <td>1</td>\n",
       "      <td>2061</td>\n",
       "      <td>...</td>\n",
       "      <td>3</td>\n",
       "      <td>80</td>\n",
       "      <td>1</td>\n",
       "      <td>17</td>\n",
       "      <td>3</td>\n",
       "      <td>3</td>\n",
       "      <td>5</td>\n",
       "      <td>2</td>\n",
       "      <td>0</td>\n",
       "      <td>3</td>\n",
       "    </tr>\n",
       "    <tr>\n",
       "      <th>1466</th>\n",
       "      <td>39</td>\n",
       "      <td>No</td>\n",
       "      <td>Travel_Rarely</td>\n",
       "      <td>613</td>\n",
       "      <td>Research &amp; Development</td>\n",
       "      <td>6</td>\n",
       "      <td>1</td>\n",
       "      <td>Medical</td>\n",
       "      <td>1</td>\n",
       "      <td>2062</td>\n",
       "      <td>...</td>\n",
       "      <td>1</td>\n",
       "      <td>80</td>\n",
       "      <td>1</td>\n",
       "      <td>9</td>\n",
       "      <td>5</td>\n",
       "      <td>3</td>\n",
       "      <td>7</td>\n",
       "      <td>7</td>\n",
       "      <td>1</td>\n",
       "      <td>7</td>\n",
       "    </tr>\n",
       "    <tr>\n",
       "      <th>1467</th>\n",
       "      <td>27</td>\n",
       "      <td>No</td>\n",
       "      <td>Travel_Rarely</td>\n",
       "      <td>155</td>\n",
       "      <td>Research &amp; Development</td>\n",
       "      <td>4</td>\n",
       "      <td>3</td>\n",
       "      <td>Life Sciences</td>\n",
       "      <td>1</td>\n",
       "      <td>2064</td>\n",
       "      <td>...</td>\n",
       "      <td>2</td>\n",
       "      <td>80</td>\n",
       "      <td>1</td>\n",
       "      <td>6</td>\n",
       "      <td>0</td>\n",
       "      <td>3</td>\n",
       "      <td>6</td>\n",
       "      <td>2</td>\n",
       "      <td>0</td>\n",
       "      <td>3</td>\n",
       "    </tr>\n",
       "    <tr>\n",
       "      <th>1468</th>\n",
       "      <td>49</td>\n",
       "      <td>No</td>\n",
       "      <td>Travel_Frequently</td>\n",
       "      <td>1023</td>\n",
       "      <td>Sales</td>\n",
       "      <td>2</td>\n",
       "      <td>3</td>\n",
       "      <td>Medical</td>\n",
       "      <td>1</td>\n",
       "      <td>2065</td>\n",
       "      <td>...</td>\n",
       "      <td>4</td>\n",
       "      <td>80</td>\n",
       "      <td>0</td>\n",
       "      <td>17</td>\n",
       "      <td>3</td>\n",
       "      <td>2</td>\n",
       "      <td>9</td>\n",
       "      <td>6</td>\n",
       "      <td>0</td>\n",
       "      <td>8</td>\n",
       "    </tr>\n",
       "    <tr>\n",
       "      <th>1469</th>\n",
       "      <td>34</td>\n",
       "      <td>No</td>\n",
       "      <td>Travel_Rarely</td>\n",
       "      <td>628</td>\n",
       "      <td>Research &amp; Development</td>\n",
       "      <td>8</td>\n",
       "      <td>3</td>\n",
       "      <td>Medical</td>\n",
       "      <td>1</td>\n",
       "      <td>2068</td>\n",
       "      <td>...</td>\n",
       "      <td>1</td>\n",
       "      <td>80</td>\n",
       "      <td>0</td>\n",
       "      <td>6</td>\n",
       "      <td>3</td>\n",
       "      <td>4</td>\n",
       "      <td>4</td>\n",
       "      <td>3</td>\n",
       "      <td>1</td>\n",
       "      <td>2</td>\n",
       "    </tr>\n",
       "  </tbody>\n",
       "</table>\n",
       "<p>5 rows × 35 columns</p>\n",
       "</div>"
      ],
      "text/plain": [
       "      Age Attrition     BusinessTravel  DailyRate              Department  \\\n",
       "1465   36        No  Travel_Frequently        884  Research & Development   \n",
       "1466   39        No      Travel_Rarely        613  Research & Development   \n",
       "1467   27        No      Travel_Rarely        155  Research & Development   \n",
       "1468   49        No  Travel_Frequently       1023                   Sales   \n",
       "1469   34        No      Travel_Rarely        628  Research & Development   \n",
       "\n",
       "      DistanceFromHome  Education EducationField  EmployeeCount  \\\n",
       "1465                23          2        Medical              1   \n",
       "1466                 6          1        Medical              1   \n",
       "1467                 4          3  Life Sciences              1   \n",
       "1468                 2          3        Medical              1   \n",
       "1469                 8          3        Medical              1   \n",
       "\n",
       "      EmployeeNumber  ...  RelationshipSatisfaction StandardHours  \\\n",
       "1465            2061  ...                         3            80   \n",
       "1466            2062  ...                         1            80   \n",
       "1467            2064  ...                         2            80   \n",
       "1468            2065  ...                         4            80   \n",
       "1469            2068  ...                         1            80   \n",
       "\n",
       "      StockOptionLevel  TotalWorkingYears  TrainingTimesLastYear  \\\n",
       "1465                 1                 17                      3   \n",
       "1466                 1                  9                      5   \n",
       "1467                 1                  6                      0   \n",
       "1468                 0                 17                      3   \n",
       "1469                 0                  6                      3   \n",
       "\n",
       "     WorkLifeBalance  YearsAtCompany YearsInCurrentRole  \\\n",
       "1465               3               5                  2   \n",
       "1466               3               7                  7   \n",
       "1467               3               6                  2   \n",
       "1468               2               9                  6   \n",
       "1469               4               4                  3   \n",
       "\n",
       "      YearsSinceLastPromotion  YearsWithCurrManager  \n",
       "1465                        0                     3  \n",
       "1466                        1                     7  \n",
       "1467                        0                     3  \n",
       "1468                        0                     8  \n",
       "1469                        1                     2  \n",
       "\n",
       "[5 rows x 35 columns]"
      ]
     },
     "metadata": {},
     "output_type": "display_data"
    }
   ],
   "source": [
    "# Bottom rows\n",
    "display(green_df.tail())"
   ]
  },
  {
   "cell_type": "code",
   "execution_count": 5,
   "id": "7c94e810-bc9f-4014-a40a-14fd5fd8882e",
   "metadata": {},
   "outputs": [
    {
     "data": {
      "text/plain": [
       "(1470, 35)"
      ]
     },
     "execution_count": 5,
     "metadata": {},
     "output_type": "execute_result"
    }
   ],
   "source": [
    "# Total rows and columns\n",
    "green_df.shape"
   ]
  },
  {
   "cell_type": "code",
   "execution_count": 6,
   "id": "48a259c0-7f62-4577-9264-70359cb29bb7",
   "metadata": {},
   "outputs": [
    {
     "data": {
      "text/plain": [
       "51450"
      ]
     },
     "execution_count": 6,
     "metadata": {},
     "output_type": "execute_result"
    }
   ],
   "source": [
    "# Total values\n",
    "green_df.size"
   ]
  },
  {
   "cell_type": "code",
   "execution_count": 7,
   "id": "be8b20bd-7e59-444d-941f-fe11cb5ecef2",
   "metadata": {},
   "outputs": [
    {
     "name": "stdout",
     "output_type": "stream",
     "text": [
      "<class 'pandas.core.frame.DataFrame'>\n",
      "RangeIndex: 1470 entries, 0 to 1469\n",
      "Data columns (total 35 columns):\n",
      " #   Column                    Non-Null Count  Dtype \n",
      "---  ------                    --------------  ----- \n",
      " 0   Age                       1470 non-null   int64 \n",
      " 1   Attrition                 1470 non-null   object\n",
      " 2   BusinessTravel            1470 non-null   object\n",
      " 3   DailyRate                 1470 non-null   int64 \n",
      " 4   Department                1470 non-null   object\n",
      " 5   DistanceFromHome          1470 non-null   int64 \n",
      " 6   Education                 1470 non-null   int64 \n",
      " 7   EducationField            1470 non-null   object\n",
      " 8   EmployeeCount             1470 non-null   int64 \n",
      " 9   EmployeeNumber            1470 non-null   int64 \n",
      " 10  EnvironmentSatisfaction   1470 non-null   int64 \n",
      " 11  Gender                    1470 non-null   object\n",
      " 12  HourlyRate                1470 non-null   int64 \n",
      " 13  JobInvolvement            1470 non-null   int64 \n",
      " 14  JobLevel                  1470 non-null   int64 \n",
      " 15  JobRole                   1470 non-null   object\n",
      " 16  JobSatisfaction           1470 non-null   int64 \n",
      " 17  MaritalStatus             1470 non-null   object\n",
      " 18  MonthlyIncome             1470 non-null   int64 \n",
      " 19  MonthlyRate               1470 non-null   int64 \n",
      " 20  NumCompaniesWorked        1470 non-null   int64 \n",
      " 21  Over18                    1470 non-null   object\n",
      " 22  OverTime                  1470 non-null   object\n",
      " 23  PercentSalaryHike         1470 non-null   int64 \n",
      " 24  PerformanceRating         1470 non-null   int64 \n",
      " 25  RelationshipSatisfaction  1470 non-null   int64 \n",
      " 26  StandardHours             1470 non-null   int64 \n",
      " 27  StockOptionLevel          1470 non-null   int64 \n",
      " 28  TotalWorkingYears         1470 non-null   int64 \n",
      " 29  TrainingTimesLastYear     1470 non-null   int64 \n",
      " 30  WorkLifeBalance           1470 non-null   int64 \n",
      " 31  YearsAtCompany            1470 non-null   int64 \n",
      " 32  YearsInCurrentRole        1470 non-null   int64 \n",
      " 33  YearsSinceLastPromotion   1470 non-null   int64 \n",
      " 34  YearsWithCurrManager      1470 non-null   int64 \n",
      "dtypes: int64(26), object(9)\n",
      "memory usage: 402.1+ KB\n"
     ]
    }
   ],
   "source": [
    "# Dataframe description\n",
    "green_df.info()"
   ]
  },
  {
   "cell_type": "code",
   "execution_count": 8,
   "id": "3192d369-c575-4e26-9ab2-ae8467478ab3",
   "metadata": {},
   "outputs": [
    {
     "data": {
      "text/html": [
       "<div>\n",
       "<style scoped>\n",
       "    .dataframe tbody tr th:only-of-type {\n",
       "        vertical-align: middle;\n",
       "    }\n",
       "\n",
       "    .dataframe tbody tr th {\n",
       "        vertical-align: top;\n",
       "    }\n",
       "\n",
       "    .dataframe thead th {\n",
       "        text-align: right;\n",
       "    }\n",
       "</style>\n",
       "<table border=\"1\" class=\"dataframe\">\n",
       "  <thead>\n",
       "    <tr style=\"text-align: right;\">\n",
       "      <th></th>\n",
       "      <th>Age</th>\n",
       "      <th>DailyRate</th>\n",
       "      <th>DistanceFromHome</th>\n",
       "      <th>Education</th>\n",
       "      <th>EmployeeCount</th>\n",
       "      <th>EmployeeNumber</th>\n",
       "      <th>EnvironmentSatisfaction</th>\n",
       "      <th>HourlyRate</th>\n",
       "      <th>JobInvolvement</th>\n",
       "      <th>JobLevel</th>\n",
       "      <th>...</th>\n",
       "      <th>RelationshipSatisfaction</th>\n",
       "      <th>StandardHours</th>\n",
       "      <th>StockOptionLevel</th>\n",
       "      <th>TotalWorkingYears</th>\n",
       "      <th>TrainingTimesLastYear</th>\n",
       "      <th>WorkLifeBalance</th>\n",
       "      <th>YearsAtCompany</th>\n",
       "      <th>YearsInCurrentRole</th>\n",
       "      <th>YearsSinceLastPromotion</th>\n",
       "      <th>YearsWithCurrManager</th>\n",
       "    </tr>\n",
       "  </thead>\n",
       "  <tbody>\n",
       "    <tr>\n",
       "      <th>count</th>\n",
       "      <td>1470.000000</td>\n",
       "      <td>1470.000000</td>\n",
       "      <td>1470.000000</td>\n",
       "      <td>1470.000000</td>\n",
       "      <td>1470.0</td>\n",
       "      <td>1470.000000</td>\n",
       "      <td>1470.000000</td>\n",
       "      <td>1470.000000</td>\n",
       "      <td>1470.000000</td>\n",
       "      <td>1470.000000</td>\n",
       "      <td>...</td>\n",
       "      <td>1470.000000</td>\n",
       "      <td>1470.0</td>\n",
       "      <td>1470.000000</td>\n",
       "      <td>1470.000000</td>\n",
       "      <td>1470.000000</td>\n",
       "      <td>1470.000000</td>\n",
       "      <td>1470.000000</td>\n",
       "      <td>1470.000000</td>\n",
       "      <td>1470.000000</td>\n",
       "      <td>1470.000000</td>\n",
       "    </tr>\n",
       "    <tr>\n",
       "      <th>mean</th>\n",
       "      <td>36.923810</td>\n",
       "      <td>802.485714</td>\n",
       "      <td>9.192517</td>\n",
       "      <td>2.912925</td>\n",
       "      <td>1.0</td>\n",
       "      <td>1024.865306</td>\n",
       "      <td>2.721769</td>\n",
       "      <td>65.891156</td>\n",
       "      <td>2.729932</td>\n",
       "      <td>2.063946</td>\n",
       "      <td>...</td>\n",
       "      <td>2.712245</td>\n",
       "      <td>80.0</td>\n",
       "      <td>0.793878</td>\n",
       "      <td>11.279592</td>\n",
       "      <td>2.799320</td>\n",
       "      <td>2.761224</td>\n",
       "      <td>7.008163</td>\n",
       "      <td>4.229252</td>\n",
       "      <td>2.187755</td>\n",
       "      <td>4.123129</td>\n",
       "    </tr>\n",
       "    <tr>\n",
       "      <th>std</th>\n",
       "      <td>9.135373</td>\n",
       "      <td>403.509100</td>\n",
       "      <td>8.106864</td>\n",
       "      <td>1.024165</td>\n",
       "      <td>0.0</td>\n",
       "      <td>602.024335</td>\n",
       "      <td>1.093082</td>\n",
       "      <td>20.329428</td>\n",
       "      <td>0.711561</td>\n",
       "      <td>1.106940</td>\n",
       "      <td>...</td>\n",
       "      <td>1.081209</td>\n",
       "      <td>0.0</td>\n",
       "      <td>0.852077</td>\n",
       "      <td>7.780782</td>\n",
       "      <td>1.289271</td>\n",
       "      <td>0.706476</td>\n",
       "      <td>6.126525</td>\n",
       "      <td>3.623137</td>\n",
       "      <td>3.222430</td>\n",
       "      <td>3.568136</td>\n",
       "    </tr>\n",
       "    <tr>\n",
       "      <th>min</th>\n",
       "      <td>18.000000</td>\n",
       "      <td>102.000000</td>\n",
       "      <td>1.000000</td>\n",
       "      <td>1.000000</td>\n",
       "      <td>1.0</td>\n",
       "      <td>1.000000</td>\n",
       "      <td>1.000000</td>\n",
       "      <td>30.000000</td>\n",
       "      <td>1.000000</td>\n",
       "      <td>1.000000</td>\n",
       "      <td>...</td>\n",
       "      <td>1.000000</td>\n",
       "      <td>80.0</td>\n",
       "      <td>0.000000</td>\n",
       "      <td>0.000000</td>\n",
       "      <td>0.000000</td>\n",
       "      <td>1.000000</td>\n",
       "      <td>0.000000</td>\n",
       "      <td>0.000000</td>\n",
       "      <td>0.000000</td>\n",
       "      <td>0.000000</td>\n",
       "    </tr>\n",
       "    <tr>\n",
       "      <th>25%</th>\n",
       "      <td>30.000000</td>\n",
       "      <td>465.000000</td>\n",
       "      <td>2.000000</td>\n",
       "      <td>2.000000</td>\n",
       "      <td>1.0</td>\n",
       "      <td>491.250000</td>\n",
       "      <td>2.000000</td>\n",
       "      <td>48.000000</td>\n",
       "      <td>2.000000</td>\n",
       "      <td>1.000000</td>\n",
       "      <td>...</td>\n",
       "      <td>2.000000</td>\n",
       "      <td>80.0</td>\n",
       "      <td>0.000000</td>\n",
       "      <td>6.000000</td>\n",
       "      <td>2.000000</td>\n",
       "      <td>2.000000</td>\n",
       "      <td>3.000000</td>\n",
       "      <td>2.000000</td>\n",
       "      <td>0.000000</td>\n",
       "      <td>2.000000</td>\n",
       "    </tr>\n",
       "    <tr>\n",
       "      <th>50%</th>\n",
       "      <td>36.000000</td>\n",
       "      <td>802.000000</td>\n",
       "      <td>7.000000</td>\n",
       "      <td>3.000000</td>\n",
       "      <td>1.0</td>\n",
       "      <td>1020.500000</td>\n",
       "      <td>3.000000</td>\n",
       "      <td>66.000000</td>\n",
       "      <td>3.000000</td>\n",
       "      <td>2.000000</td>\n",
       "      <td>...</td>\n",
       "      <td>3.000000</td>\n",
       "      <td>80.0</td>\n",
       "      <td>1.000000</td>\n",
       "      <td>10.000000</td>\n",
       "      <td>3.000000</td>\n",
       "      <td>3.000000</td>\n",
       "      <td>5.000000</td>\n",
       "      <td>3.000000</td>\n",
       "      <td>1.000000</td>\n",
       "      <td>3.000000</td>\n",
       "    </tr>\n",
       "    <tr>\n",
       "      <th>75%</th>\n",
       "      <td>43.000000</td>\n",
       "      <td>1157.000000</td>\n",
       "      <td>14.000000</td>\n",
       "      <td>4.000000</td>\n",
       "      <td>1.0</td>\n",
       "      <td>1555.750000</td>\n",
       "      <td>4.000000</td>\n",
       "      <td>83.750000</td>\n",
       "      <td>3.000000</td>\n",
       "      <td>3.000000</td>\n",
       "      <td>...</td>\n",
       "      <td>4.000000</td>\n",
       "      <td>80.0</td>\n",
       "      <td>1.000000</td>\n",
       "      <td>15.000000</td>\n",
       "      <td>3.000000</td>\n",
       "      <td>3.000000</td>\n",
       "      <td>9.000000</td>\n",
       "      <td>7.000000</td>\n",
       "      <td>3.000000</td>\n",
       "      <td>7.000000</td>\n",
       "    </tr>\n",
       "    <tr>\n",
       "      <th>max</th>\n",
       "      <td>60.000000</td>\n",
       "      <td>1499.000000</td>\n",
       "      <td>29.000000</td>\n",
       "      <td>5.000000</td>\n",
       "      <td>1.0</td>\n",
       "      <td>2068.000000</td>\n",
       "      <td>4.000000</td>\n",
       "      <td>100.000000</td>\n",
       "      <td>4.000000</td>\n",
       "      <td>5.000000</td>\n",
       "      <td>...</td>\n",
       "      <td>4.000000</td>\n",
       "      <td>80.0</td>\n",
       "      <td>3.000000</td>\n",
       "      <td>40.000000</td>\n",
       "      <td>6.000000</td>\n",
       "      <td>4.000000</td>\n",
       "      <td>40.000000</td>\n",
       "      <td>18.000000</td>\n",
       "      <td>15.000000</td>\n",
       "      <td>17.000000</td>\n",
       "    </tr>\n",
       "  </tbody>\n",
       "</table>\n",
       "<p>8 rows × 26 columns</p>\n",
       "</div>"
      ],
      "text/plain": [
       "               Age    DailyRate  DistanceFromHome    Education  EmployeeCount  \\\n",
       "count  1470.000000  1470.000000       1470.000000  1470.000000         1470.0   \n",
       "mean     36.923810   802.485714          9.192517     2.912925            1.0   \n",
       "std       9.135373   403.509100          8.106864     1.024165            0.0   \n",
       "min      18.000000   102.000000          1.000000     1.000000            1.0   \n",
       "25%      30.000000   465.000000          2.000000     2.000000            1.0   \n",
       "50%      36.000000   802.000000          7.000000     3.000000            1.0   \n",
       "75%      43.000000  1157.000000         14.000000     4.000000            1.0   \n",
       "max      60.000000  1499.000000         29.000000     5.000000            1.0   \n",
       "\n",
       "       EmployeeNumber  EnvironmentSatisfaction   HourlyRate  JobInvolvement  \\\n",
       "count     1470.000000              1470.000000  1470.000000     1470.000000   \n",
       "mean      1024.865306                 2.721769    65.891156        2.729932   \n",
       "std        602.024335                 1.093082    20.329428        0.711561   \n",
       "min          1.000000                 1.000000    30.000000        1.000000   \n",
       "25%        491.250000                 2.000000    48.000000        2.000000   \n",
       "50%       1020.500000                 3.000000    66.000000        3.000000   \n",
       "75%       1555.750000                 4.000000    83.750000        3.000000   \n",
       "max       2068.000000                 4.000000   100.000000        4.000000   \n",
       "\n",
       "          JobLevel  ...  RelationshipSatisfaction  StandardHours  \\\n",
       "count  1470.000000  ...               1470.000000         1470.0   \n",
       "mean      2.063946  ...                  2.712245           80.0   \n",
       "std       1.106940  ...                  1.081209            0.0   \n",
       "min       1.000000  ...                  1.000000           80.0   \n",
       "25%       1.000000  ...                  2.000000           80.0   \n",
       "50%       2.000000  ...                  3.000000           80.0   \n",
       "75%       3.000000  ...                  4.000000           80.0   \n",
       "max       5.000000  ...                  4.000000           80.0   \n",
       "\n",
       "       StockOptionLevel  TotalWorkingYears  TrainingTimesLastYear  \\\n",
       "count       1470.000000        1470.000000            1470.000000   \n",
       "mean           0.793878          11.279592               2.799320   \n",
       "std            0.852077           7.780782               1.289271   \n",
       "min            0.000000           0.000000               0.000000   \n",
       "25%            0.000000           6.000000               2.000000   \n",
       "50%            1.000000          10.000000               3.000000   \n",
       "75%            1.000000          15.000000               3.000000   \n",
       "max            3.000000          40.000000               6.000000   \n",
       "\n",
       "       WorkLifeBalance  YearsAtCompany  YearsInCurrentRole  \\\n",
       "count      1470.000000     1470.000000         1470.000000   \n",
       "mean          2.761224        7.008163            4.229252   \n",
       "std           0.706476        6.126525            3.623137   \n",
       "min           1.000000        0.000000            0.000000   \n",
       "25%           2.000000        3.000000            2.000000   \n",
       "50%           3.000000        5.000000            3.000000   \n",
       "75%           3.000000        9.000000            7.000000   \n",
       "max           4.000000       40.000000           18.000000   \n",
       "\n",
       "       YearsSinceLastPromotion  YearsWithCurrManager  \n",
       "count              1470.000000           1470.000000  \n",
       "mean                  2.187755              4.123129  \n",
       "std                   3.222430              3.568136  \n",
       "min                   0.000000              0.000000  \n",
       "25%                   0.000000              2.000000  \n",
       "50%                   1.000000              3.000000  \n",
       "75%                   3.000000              7.000000  \n",
       "max                  15.000000             17.000000  \n",
       "\n",
       "[8 rows x 26 columns]"
      ]
     },
     "execution_count": 8,
     "metadata": {},
     "output_type": "execute_result"
    }
   ],
   "source": [
    "# Dataframe Statistics \n",
    "green_df.describe()"
   ]
  },
  {
   "cell_type": "code",
   "execution_count": 9,
   "id": "2fc7c044-8527-43a7-ae00-aa5f60226796",
   "metadata": {},
   "outputs": [
    {
     "data": {
      "text/plain": [
       "Index(['Age', 'Attrition', 'BusinessTravel', 'DailyRate', 'Department',\n",
       "       'DistanceFromHome', 'Education', 'EducationField', 'EmployeeCount',\n",
       "       'EmployeeNumber', 'EnvironmentSatisfaction', 'Gender', 'HourlyRate',\n",
       "       'JobInvolvement', 'JobLevel', 'JobRole', 'JobSatisfaction',\n",
       "       'MaritalStatus', 'MonthlyIncome', 'MonthlyRate', 'NumCompaniesWorked',\n",
       "       'Over18', 'OverTime', 'PercentSalaryHike', 'PerformanceRating',\n",
       "       'RelationshipSatisfaction', 'StandardHours', 'StockOptionLevel',\n",
       "       'TotalWorkingYears', 'TrainingTimesLastYear', 'WorkLifeBalance',\n",
       "       'YearsAtCompany', 'YearsInCurrentRole', 'YearsSinceLastPromotion',\n",
       "       'YearsWithCurrManager'],\n",
       "      dtype='object')"
      ]
     },
     "execution_count": 9,
     "metadata": {},
     "output_type": "execute_result"
    }
   ],
   "source": [
    "# Columns\n",
    "green_df.columns"
   ]
  },
  {
   "cell_type": "markdown",
   "id": "6995ad87-d0c9-47b3-a88c-313ac19d9655",
   "metadata": {},
   "source": [
    "There are plathora of columns. We will have to reduce the dimension by eliminating columns or dimensionality reduction."
   ]
  },
  {
   "cell_type": "markdown",
   "id": "0877e92a-48fc-4579-8a59-c98f2d2b0a35",
   "metadata": {},
   "source": [
    "# Data Visualization"
   ]
  },
  {
   "cell_type": "code",
   "execution_count": 10,
   "id": "e9452fbb-7a5a-4758-b530-d534996961d6",
   "metadata": {},
   "outputs": [
    {
     "data": {
      "image/png": "[encoded data removed]",
      "text/plain": [
       "<Figure size 1200x800 with 4 Axes>"
      ]
     },
     "metadata": {},
     "output_type": "display_data"
    }
   ],
   "source": [
    "# Count values\n",
    "ms_counts = green_df['MaritalStatus'].value_counts()\n",
    "atrtn_counts = green_df['Attrition'].value_counts()\n",
    "bt_counts = green_df['BusinessTravel'].value_counts()\n",
    "ot_counts = green_df['OverTime'].value_counts()\n",
    "\n",
    "plt.figure(figsize=(12, 8))\n",
    "\n",
    "# Marital Status - Plot horizontal bar chart\n",
    "plt.subplot(221)\n",
    "ax = ms_counts.plot(kind=\"barh\", color=\"mediumseagreen\")\n",
    "plt.title(\"Marital Status\")\n",
    "for i, v in enumerate(ms_counts):\n",
    "    ax.text(v + 0.5, i, str(v), va='center')\n",
    "plt.xlabel(\"Count\")\n",
    "plt.ylabel(\"Marital Status\")\n",
    "\n",
    "# Attrition - Plot vertical bar chart\n",
    "plt.subplot(222)\n",
    "ax = atrtn_counts.plot(kind=\"bar\", color=\"cornflowerblue\")\n",
    "plt.title(\"Attrition\")\n",
    "for i, v in enumerate(atrtn_counts):\n",
    "    ax.text(i, v + 1, str(v), ha='center')\n",
    "plt.xlabel(\"Attrition\")\n",
    "plt.ylabel(\"Count\")\n",
    "\n",
    "# Business Travel - Horizontal bar\n",
    "plt.subplot(223)\n",
    "ax = bt_counts.plot(kind=\"barh\", color=\"salmon\")\n",
    "plt.title(\"Business Travel\")\n",
    "for i, v in enumerate(bt_counts):\n",
    "    ax.text(v + 0.5, i, str(v), va='center')\n",
    "plt.xlabel(\"Count\")\n",
    "plt.ylabel(\"Business Travel\")\n",
    "\n",
    "# OverTime - Vertical bar\n",
    "plt.subplot(224)\n",
    "ax = ot_counts.plot(kind=\"bar\", color=\"goldenrod\")\n",
    "plt.title(\"OverTime\")\n",
    "for i, v in enumerate(ot_counts):\n",
    "    ax.text(i, v + 1, str(v), ha='center')\n",
    "plt.xlabel(\"OverTime\")\n",
    "plt.ylabel(\"Count\")\n",
    "\n",
    "plt.tight_layout()\n",
    "plt.show()"
   ]
  },
  {
   "cell_type": "code",
   "execution_count": 11,
   "id": "f52195f2-d6dd-43e3-96e3-8a5827efa45d",
   "metadata": {},
   "outputs": [
    {
     "name": "stdout",
     "output_type": "stream",
     "text": [
      "Attrition  MaritalStatus\n",
      "No         Married          589\n",
      "           Single           350\n",
      "           Divorced         294\n",
      "Yes        Single           120\n",
      "           Married           84\n",
      "           Divorced          33\n",
      "Name: count, dtype: int64\n",
      "Attrition  OverTime\n",
      "No         No          944\n",
      "           Yes         289\n",
      "Yes        Yes         127\n",
      "           No          110\n",
      "Name: count, dtype: int64\n"
     ]
    }
   ],
   "source": [
    "# Groupby Attrition \n",
    "# Use value_counts() for details\n",
    "print(green_df.groupby(\"Attrition\")[\"MaritalStatus\"].value_counts())\n",
    "print(green_df.groupby(\"Attrition\")[\"OverTime\"].value_counts())"
   ]
  },
  {
   "cell_type": "markdown",
   "id": "69b1df1e",
   "metadata": {},
   "source": [
    "* Detail plot for above contingency table. "
   ]
  },
  {
   "cell_type": "code",
   "execution_count": 12,
   "id": "61b79468",
   "metadata": {
    "scrolled": false
   },
   "outputs": [
    {
     "name": "stdout",
     "output_type": "stream",
     "text": [
      "Requirement already satisfied: statsmodels in c:\\users\\admin\\appdata\\local\\programs\\python\\python312\\lib\\site-packages (0.14.4)\n",
      "Requirement already satisfied: numpy<3,>=1.22.3 in c:\\users\\admin\\appdata\\local\\programs\\python\\python312\\lib\\site-packages (from statsmodels) (2.2.5)\n",
      "Requirement already satisfied: scipy!=1.9.2,>=1.8 in c:\\users\\admin\\appdata\\local\\programs\\python\\python312\\lib\\site-packages (from statsmodels) (1.15.3)\n",
      "Requirement already satisfied: pandas!=2.1.0,>=1.4 in c:\\users\\admin\\appdata\\local\\programs\\python\\python312\\lib\\site-packages (from statsmodels) (2.2.3)\n",
      "Requirement already satisfied: patsy>=0.5.6 in c:\\users\\admin\\appdata\\local\\programs\\python\\python312\\lib\\site-packages (from statsmodels) (1.0.1)\n",
      "Requirement already satisfied: packaging>=21.3 in c:\\users\\admin\\appdata\\roaming\\python\\python312\\site-packages (from statsmodels) (25.0)\n",
      "Requirement already satisfied: python-dateutil>=2.8.2 in c:\\users\\admin\\appdata\\roaming\\python\\python312\\site-packages (from pandas!=2.1.0,>=1.4->statsmodels) (2.9.0.post0)\n",
      "Requirement already satisfied: pytz>=2020.1 in c:\\users\\admin\\appdata\\local\\programs\\python\\python312\\lib\\site-packages (from pandas!=2.1.0,>=1.4->statsmodels) (2025.2)\n",
      "Requirement already satisfied: tzdata>=2022.7 in c:\\users\\admin\\appdata\\local\\programs\\python\\python312\\lib\\site-packages (from pandas!=2.1.0,>=1.4->statsmodels) (2025.2)\n",
      "Requirement already satisfied: six>=1.5 in c:\\users\\admin\\appdata\\roaming\\python\\python312\\site-packages (from python-dateutil>=2.8.2->pandas!=2.1.0,>=1.4->statsmodels) (1.17.0)\n"
     ]
    },
    {
     "name": "stderr",
     "output_type": "stream",
     "text": [
      "\n",
      "[notice] A new release of pip is available: 24.3.1 -> 25.1.1\n",
      "[notice] To update, run: python.exe -m pip install --upgrade pip\n"
     ]
    }
   ],
   "source": [
    "!pip install statsmodels"
   ]
  },
  {
   "cell_type": "code",
   "execution_count": 13,
   "id": "7852b38b-becc-4595-96ab-a4619d7da597",
   "metadata": {},
   "outputs": [],
   "source": [
    "from statsmodels.graphics.mosaicplot import mosaic\n",
    "# A mosaic plot is a graphical visualization of data from two or more qualitative variables."
   ]
  },
  {
   "cell_type": "markdown",
   "id": "836aef67",
   "metadata": {},
   "source": [
    "### It is the multidimensional extension of spineplots, which graphically display the same information for only one variable. It gives an overview of the data and makes it possible to recognize relationships between different variables."
   ]
  },
  {
   "cell_type": "code",
   "execution_count": 14,
   "id": "cacb833d-0d55-4d1d-953e-772d758755f1",
   "metadata": {},
   "outputs": [
    {
     "data": {
      "text/plain": [
       "<Figure size 800x500 with 0 Axes>"
      ]
     },
     "metadata": {},
     "output_type": "display_data"
    },
    {
     "data": {
      "image/png": "[encoded data removed]",
      "text/plain": [
       "<Figure size 640x480 with 3 Axes>"
      ]
     },
     "metadata": {},
     "output_type": "display_data"
    }
   ],
   "source": [
    "# Mosaic plot for Marital Status vs Attrition\n",
    "plt.figure(figsize=(8, 5))\n",
    "mosaic(green_df, ['Attrition', 'MaritalStatus'])\n",
    "plt.title(\"Mosaic Plot: Attrition vs Marital Status\")\n",
    "plt.show()"
   ]
  },
  {
   "cell_type": "code",
   "execution_count": 15,
   "id": "5a5e9e5b-1583-4828-8142-75554192db6e",
   "metadata": {
    "scrolled": false
   },
   "outputs": [
    {
     "data": {
      "text/plain": [
       "<Figure size 600x500 with 0 Axes>"
      ]
     },
     "metadata": {},
     "output_type": "display_data"
    },
    {
     "data": {
      "image/png": "[encoded data removed]",
      "text/plain": [
       "<Figure size 640x480 with 3 Axes>"
      ]
     },
     "metadata": {},
     "output_type": "display_data"
    }
   ],
   "source": [
    "# Mosaic plot for OverTime vs Attrition\n",
    "plt.figure(figsize=(6, 5))\n",
    "mosaic(green_df, ['Attrition', 'OverTime'])\n",
    "plt.title(\"Mosaic Plot: Attrition vs OverTime\")\n",
    "plt.show()"
   ]
  },
  {
   "cell_type": "code",
   "execution_count": 16,
   "id": "e630486f",
   "metadata": {},
   "outputs": [
    {
     "data": {
      "text/html": [
       "<div>\n",
       "<style scoped>\n",
       "    .dataframe tbody tr th:only-of-type {\n",
       "        vertical-align: middle;\n",
       "    }\n",
       "\n",
       "    .dataframe tbody tr th {\n",
       "        vertical-align: top;\n",
       "    }\n",
       "\n",
       "    .dataframe thead th {\n",
       "        text-align: right;\n",
       "    }\n",
       "</style>\n",
       "<table border=\"1\" class=\"dataframe\">\n",
       "  <thead>\n",
       "    <tr style=\"text-align: right;\">\n",
       "      <th>Attrition</th>\n",
       "      <th>No</th>\n",
       "      <th>Yes</th>\n",
       "    </tr>\n",
       "    <tr>\n",
       "      <th>MaritalStatus</th>\n",
       "      <th></th>\n",
       "      <th></th>\n",
       "    </tr>\n",
       "  </thead>\n",
       "  <tbody>\n",
       "    <tr>\n",
       "      <th>Divorced</th>\n",
       "      <td>294</td>\n",
       "      <td>33</td>\n",
       "    </tr>\n",
       "    <tr>\n",
       "      <th>Married</th>\n",
       "      <td>589</td>\n",
       "      <td>84</td>\n",
       "    </tr>\n",
       "    <tr>\n",
       "      <th>Single</th>\n",
       "      <td>350</td>\n",
       "      <td>120</td>\n",
       "    </tr>\n",
       "  </tbody>\n",
       "</table>\n",
       "</div>"
      ],
      "text/plain": [
       "Attrition       No  Yes\n",
       "MaritalStatus          \n",
       "Divorced       294   33\n",
       "Married        589   84\n",
       "Single         350  120"
      ]
     },
     "execution_count": 16,
     "metadata": {},
     "output_type": "execute_result"
    }
   ],
   "source": [
    "# Contingency table\n",
    "pd.crosstab(green_df['MaritalStatus'], green_df['Attrition'])"
   ]
  },
  {
   "cell_type": "code",
   "execution_count": 17,
   "id": "0df8ef3f-cbfe-4315-9a6e-284b9a5add36",
   "metadata": {},
   "outputs": [
    {
     "data": {
      "image/png": "[encoded data removed]",
      "text/plain": [
       "<Figure size 800x500 with 1 Axes>"
      ]
     },
     "metadata": {},
     "output_type": "display_data"
    },
    {
     "data": {
      "image/png": "[encoded data removed]",
      "text/plain": [
       "<Figure size 600x500 with 1 Axes>"
      ]
     },
     "metadata": {},
     "output_type": "display_data"
    }
   ],
   "source": [
    "# Marital Status vs Attrition - Side-by-side bar plot\n",
    "pd.crosstab(green_df['MaritalStatus'], green_df['Attrition']).plot(\n",
    "    kind='bar', figsize=(8, 5), color=[\"mediumseagreen\", \"salmon\"]\n",
    ")\n",
    "plt.title(\"Marital Status vs Attrition\")\n",
    "plt.ylabel(\"Count\")\n",
    "plt.xlabel(\"Marital Status\")\n",
    "plt.xticks(rotation=0)\n",
    "plt.legend(title=\"Attrition\")\n",
    "plt.tight_layout()\n",
    "plt.show()\n",
    "\n",
    "# OverTime vs Attrition - Side-by-side bar plot\n",
    "pd.crosstab(green_df['OverTime'], green_df['Attrition']).plot(\n",
    "    kind='bar', figsize=(6, 5), color=[\"cornflowerblue\", \"goldenrod\"]\n",
    ")\n",
    "plt.title(\"OverTime vs Attrition\")\n",
    "plt.ylabel(\"Count\")\n",
    "plt.xlabel(\"OverTime\")\n",
    "plt.xticks(rotation=0)\n",
    "plt.legend(title=\"Attrition\")\n",
    "plt.tight_layout()\n",
    "plt.show()"
   ]
  },
  {
   "cell_type": "markdown",
   "id": "0c668830",
   "metadata": {},
   "source": [
    "From the above two plots, It is seen that:\n",
    "1. Single employee are more likely for attrition.\n",
    "2. Employee working overtime are more likely for attrition."
   ]
  },
  {
   "cell_type": "code",
   "execution_count": 18,
   "id": "d3c0edec-3b56-4bc7-bdca-cb1c14b1e3f0",
   "metadata": {},
   "outputs": [
    {
     "data": {
      "image/png": "[encoded data removed]",
      "text/plain": [
       "<Figure size 800x600 with 1 Axes>"
      ]
     },
     "metadata": {},
     "output_type": "display_data"
    }
   ],
   "source": [
    "# Box Plot: MonthlyIncome vs Attrition\n",
    "plt.figure(figsize=(8, 6))\n",
    "sns.boxplot(data=green_df, x='Attrition', y='MonthlyIncome', palette='pastel')\n",
    "plt.title(\"Monthly Income by Attrition\")\n",
    "plt.ylabel(\"Monthly Income\")\n",
    "plt.xlabel(\"Attrition\")\n",
    "plt.tight_layout()\n",
    "plt.show()"
   ]
  },
  {
   "cell_type": "markdown",
   "id": "d57c2ba0",
   "metadata": {},
   "source": [
    "It seems that employee more likely for attrition are lower in income than employe's with no attrition"
   ]
  },
  {
   "cell_type": "code",
   "execution_count": 19,
   "id": "e2628963-f201-4d08-b0a5-b72bba241209",
   "metadata": {},
   "outputs": [
    {
     "data": {
      "image/png": "[encoded data removed]",
      "text/plain": [
       "<Figure size 1000x600 with 1 Axes>"
      ]
     },
     "metadata": {},
     "output_type": "display_data"
    }
   ],
   "source": [
    "# Stacked Bar Plot: JobRole vs Attrition\n",
    "jobrole_attr = pd.crosstab(green_df['JobRole'], green_df['Attrition'])\n",
    "jobrole_attr.plot(kind='bar', stacked=False, figsize=(10,6), colormap='viridis')\n",
    "plt.title(\"Attrition by Job Role\")\n",
    "plt.xlabel(\"Job Role\")\n",
    "plt.ylabel(\"Number of Employees\")\n",
    "plt.legend(title=\"Attrition\")\n",
    "plt.xticks(rotation=45)\n",
    "plt.grid()\n",
    "plt.tight_layout()\n",
    "plt.show()"
   ]
  },
  {
   "cell_type": "markdown",
   "id": "c3977416",
   "metadata": {},
   "source": [
    "Most attrition took place for Laboratory Technician job role and least attrition took place for Research Director job role."
   ]
  },
  {
   "cell_type": "code",
   "execution_count": 20,
   "id": "94da0a6c-c0da-409c-a4fd-c0c8fbd509f3",
   "metadata": {},
   "outputs": [
    {
     "data": {
      "image/png": "[encoded data removed]",
      "text/plain": [
       "<Figure size 800x600 with 1 Axes>"
      ]
     },
     "metadata": {},
     "output_type": "display_data"
    }
   ],
   "source": [
    "# Voilin plot: Age vs Attrition\n",
    "plt.figure(figsize=(8,6))\n",
    "sns.violinplot(data=green_df, x='Attrition', y='Age', palette='Set2')\n",
    "plt.title(\"Age Distribution by Attrition\")\n",
    "plt.ylabel(\"Age\")\n",
    "plt.xlabel(\"Attrition\")\n",
    "plt.tight_layout()\n",
    "plt.grid()\n",
    "plt.show()"
   ]
  },
  {
   "cell_type": "markdown",
   "id": "c1b80c04",
   "metadata": {},
   "source": [
    "It is more likely that elder people won't leave the company."
   ]
  },
  {
   "cell_type": "markdown",
   "id": "ce73ca58",
   "metadata": {},
   "source": [
    "* <h3>Correlation among varibles</h3>"
   ]
  },
  {
   "cell_type": "markdown",
   "id": "46cd2fca",
   "metadata": {},
   "source": [
    "Encoding value in 0 and 1 format instead of One Hot, to let it a simple binary problem."
   ]
  },
  {
   "cell_type": "code",
   "execution_count": 21,
   "id": "8893aada",
   "metadata": {},
   "outputs": [],
   "source": [
    "# Convert Attrition to numeric: No = 0, Yes = 1\n",
    "green_df['Attrition_n'] = green_df['Attrition'].map({'No': 0, 'Yes': 1})"
   ]
  },
  {
   "cell_type": "code",
   "execution_count": 22,
   "id": "d61e8ce4",
   "metadata": {},
   "outputs": [
    {
     "data": {
      "image/png": "[encoded data removed]",
      "text/plain": [
       "<Figure size 1200x800 with 2 Axes>"
      ]
     },
     "metadata": {},
     "output_type": "display_data"
    }
   ],
   "source": [
    "# Select only numeric features (plus Attrition_n)\n",
    "corr_matrix = green_df.select_dtypes(include='number').corr()\n",
    "\n",
    "# Plot heatmap\n",
    "plt.figure(figsize=(12, 8))\n",
    "sns.heatmap(corr_matrix[['Attrition_n']].sort_values(by='Attrition_n', ascending=False),\n",
    "            annot=True, cmap='coolwarm', linewidths=0.5)\n",
    "plt.title(\"Correlation of Numeric Features with Attrition\")\n",
    "plt.show()"
   ]
  },
  {
   "cell_type": "code",
   "execution_count": 23,
   "id": "f5584da4",
   "metadata": {},
   "outputs": [
    {
     "data": {
      "text/html": [
       "<div>\n",
       "<style scoped>\n",
       "    .dataframe tbody tr th:only-of-type {\n",
       "        vertical-align: middle;\n",
       "    }\n",
       "\n",
       "    .dataframe tbody tr th {\n",
       "        vertical-align: top;\n",
       "    }\n",
       "\n",
       "    .dataframe thead th {\n",
       "        text-align: right;\n",
       "    }\n",
       "</style>\n",
       "<table border=\"1\" class=\"dataframe\">\n",
       "  <thead>\n",
       "    <tr style=\"text-align: right;\">\n",
       "      <th></th>\n",
       "      <th>Attrition_n</th>\n",
       "    </tr>\n",
       "  </thead>\n",
       "  <tbody>\n",
       "    <tr>\n",
       "      <th>Attrition_n</th>\n",
       "      <td>1.000000</td>\n",
       "    </tr>\n",
       "    <tr>\n",
       "      <th>DistanceFromHome</th>\n",
       "      <td>0.077924</td>\n",
       "    </tr>\n",
       "    <tr>\n",
       "      <th>NumCompaniesWorked</th>\n",
       "      <td>0.043494</td>\n",
       "    </tr>\n",
       "    <tr>\n",
       "      <th>MonthlyRate</th>\n",
       "      <td>0.015170</td>\n",
       "    </tr>\n",
       "    <tr>\n",
       "      <th>PerformanceRating</th>\n",
       "      <td>0.002889</td>\n",
       "    </tr>\n",
       "    <tr>\n",
       "      <th>HourlyRate</th>\n",
       "      <td>-0.006846</td>\n",
       "    </tr>\n",
       "    <tr>\n",
       "      <th>EmployeeNumber</th>\n",
       "      <td>-0.010577</td>\n",
       "    </tr>\n",
       "    <tr>\n",
       "      <th>PercentSalaryHike</th>\n",
       "      <td>-0.013478</td>\n",
       "    </tr>\n",
       "    <tr>\n",
       "      <th>Education</th>\n",
       "      <td>-0.031373</td>\n",
       "    </tr>\n",
       "    <tr>\n",
       "      <th>YearsSinceLastPromotion</th>\n",
       "      <td>-0.033019</td>\n",
       "    </tr>\n",
       "    <tr>\n",
       "      <th>RelationshipSatisfaction</th>\n",
       "      <td>-0.045872</td>\n",
       "    </tr>\n",
       "    <tr>\n",
       "      <th>DailyRate</th>\n",
       "      <td>-0.056652</td>\n",
       "    </tr>\n",
       "    <tr>\n",
       "      <th>TrainingTimesLastYear</th>\n",
       "      <td>-0.059478</td>\n",
       "    </tr>\n",
       "    <tr>\n",
       "      <th>WorkLifeBalance</th>\n",
       "      <td>-0.063939</td>\n",
       "    </tr>\n",
       "    <tr>\n",
       "      <th>EnvironmentSatisfaction</th>\n",
       "      <td>-0.103369</td>\n",
       "    </tr>\n",
       "    <tr>\n",
       "      <th>JobSatisfaction</th>\n",
       "      <td>-0.103481</td>\n",
       "    </tr>\n",
       "    <tr>\n",
       "      <th>JobInvolvement</th>\n",
       "      <td>-0.130016</td>\n",
       "    </tr>\n",
       "    <tr>\n",
       "      <th>YearsAtCompany</th>\n",
       "      <td>-0.134392</td>\n",
       "    </tr>\n",
       "    <tr>\n",
       "      <th>StockOptionLevel</th>\n",
       "      <td>-0.137145</td>\n",
       "    </tr>\n",
       "    <tr>\n",
       "      <th>YearsWithCurrManager</th>\n",
       "      <td>-0.156199</td>\n",
       "    </tr>\n",
       "    <tr>\n",
       "      <th>Age</th>\n",
       "      <td>-0.159205</td>\n",
       "    </tr>\n",
       "    <tr>\n",
       "      <th>MonthlyIncome</th>\n",
       "      <td>-0.159840</td>\n",
       "    </tr>\n",
       "    <tr>\n",
       "      <th>YearsInCurrentRole</th>\n",
       "      <td>-0.160545</td>\n",
       "    </tr>\n",
       "    <tr>\n",
       "      <th>JobLevel</th>\n",
       "      <td>-0.169105</td>\n",
       "    </tr>\n",
       "    <tr>\n",
       "      <th>TotalWorkingYears</th>\n",
       "      <td>-0.171063</td>\n",
       "    </tr>\n",
       "    <tr>\n",
       "      <th>EmployeeCount</th>\n",
       "      <td>NaN</td>\n",
       "    </tr>\n",
       "    <tr>\n",
       "      <th>StandardHours</th>\n",
       "      <td>NaN</td>\n",
       "    </tr>\n",
       "  </tbody>\n",
       "</table>\n",
       "</div>"
      ],
      "text/plain": [
       "                          Attrition_n\n",
       "Attrition_n                  1.000000\n",
       "DistanceFromHome             0.077924\n",
       "NumCompaniesWorked           0.043494\n",
       "MonthlyRate                  0.015170\n",
       "PerformanceRating            0.002889\n",
       "HourlyRate                  -0.006846\n",
       "EmployeeNumber              -0.010577\n",
       "PercentSalaryHike           -0.013478\n",
       "Education                   -0.031373\n",
       "YearsSinceLastPromotion     -0.033019\n",
       "RelationshipSatisfaction    -0.045872\n",
       "DailyRate                   -0.056652\n",
       "TrainingTimesLastYear       -0.059478\n",
       "WorkLifeBalance             -0.063939\n",
       "EnvironmentSatisfaction     -0.103369\n",
       "JobSatisfaction             -0.103481\n",
       "JobInvolvement              -0.130016\n",
       "YearsAtCompany              -0.134392\n",
       "StockOptionLevel            -0.137145\n",
       "YearsWithCurrManager        -0.156199\n",
       "Age                         -0.159205\n",
       "MonthlyIncome               -0.159840\n",
       "YearsInCurrentRole          -0.160545\n",
       "JobLevel                    -0.169105\n",
       "TotalWorkingYears           -0.171063\n",
       "EmployeeCount                     NaN\n",
       "StandardHours                     NaN"
      ]
     },
     "execution_count": 23,
     "metadata": {},
     "output_type": "execute_result"
    }
   ],
   "source": [
    "corr_matrix[['Attrition_n']].sort_values(by='Attrition_n', ascending=False)"
   ]
  },
  {
   "cell_type": "markdown",
   "id": "b29b4f47",
   "metadata": {},
   "source": [
    "We can observe few thing from the above correlation heatmap plot:\n",
    "</br>\n",
    "1. <b>Weak Overall Correlation:</b> </br>\n",
    "Most numerical features have weak correlation (|r| < 0.2) with attrition, suggesting no strong linear relationships. However, some features still show useful patterns.\n",
    "</br> </br>\n",
    "2. <b>Negative Correlations (Retention Indicators):</b> </br>\n",
    "These features are negatively correlated, meaning higher values are associated with lower attrition:>TotalWorkingYears (-0.17)\n",
    "</br> </br>\n",
    "\n",
    "> JobLevel (-0.17) </br>\n",
    "> YearsInCurrentRole (-0.16) </br>\n",
    "> MonthlyIncome (-0.16) </br>\n",
    "> Age (-0.16) </br>\n",
    "> YearsWithCurrManager (-0.16) </br>\n",
    "\n",
    "</br> </br>\n",
    "* <b>Interpretation:</b>\n",
    "More experienced, older, higher-level employees with longer tenure and higher income are less likely to leave the company.\n",
    "</br> </br>\n",
    "3. <b>Positive Correlation (Attrition Risk):</b> </br>\n",
    "DistanceFromHome has a small positive correlation (+0.08), indicating employees living farther from work may be slightly more likely to leave.\n",
    "</br> </br>\n",
    "4. <b>Low/No Correlation Features:</b> </br>\n",
    "It seems that features like HourlyRate, PerformanceRating, and MonthlyRate have near-zero correlation, suggesting they have little to no linear impact on attrition.\n",
    "</br> </br>\n",
    "5. <b>Nan Correlation:</b> </br>\n",
    "EmployeeCount and StandardHours are constants (NaN correlation) with only value 1 and 80 respectively, so they don’t contribute to prediction."
   ]
  },
  {
   "cell_type": "markdown",
   "id": "245b9a83",
   "metadata": {},
   "source": [
    "# Data Preparation for Machine Learning"
   ]
  },
  {
   "cell_type": "markdown",
   "id": "37d7995d",
   "metadata": {},
   "source": [
    "* Data Checkpoint"
   ]
  },
  {
   "cell_type": "code",
   "execution_count": 24,
   "id": "91096a40",
   "metadata": {},
   "outputs": [],
   "source": [
    "green_df_enc = green_df.copy()"
   ]
  },
  {
   "cell_type": "code",
   "execution_count": 25,
   "id": "c9dbe80e",
   "metadata": {},
   "outputs": [],
   "source": [
    "# List of categorical columns to encode\n",
    "categorical_columns = ['BusinessTravel', 'Department', 'EducationField', 'Gender', 'JobRole', 'MaritalStatus', 'Over18', 'OverTime']"
   ]
  },
  {
   "cell_type": "code",
   "execution_count": 26,
   "id": "70c923f0",
   "metadata": {},
   "outputs": [
    {
     "data": {
      "text/html": [
       "<div>\n",
       "<style scoped>\n",
       "    .dataframe tbody tr th:only-of-type {\n",
       "        vertical-align: middle;\n",
       "    }\n",
       "\n",
       "    .dataframe tbody tr th {\n",
       "        vertical-align: top;\n",
       "    }\n",
       "\n",
       "    .dataframe thead th {\n",
       "        text-align: right;\n",
       "    }\n",
       "</style>\n",
       "<table border=\"1\" class=\"dataframe\">\n",
       "  <thead>\n",
       "    <tr style=\"text-align: right;\">\n",
       "      <th></th>\n",
       "      <th>BusinessTravel</th>\n",
       "      <th>Department</th>\n",
       "      <th>EducationField</th>\n",
       "      <th>Gender</th>\n",
       "      <th>JobRole</th>\n",
       "      <th>MaritalStatus</th>\n",
       "      <th>Over18</th>\n",
       "      <th>OverTime</th>\n",
       "    </tr>\n",
       "  </thead>\n",
       "  <tbody>\n",
       "    <tr>\n",
       "      <th>0</th>\n",
       "      <td>Travel_Rarely</td>\n",
       "      <td>Sales</td>\n",
       "      <td>Life Sciences</td>\n",
       "      <td>Female</td>\n",
       "      <td>Sales Executive</td>\n",
       "      <td>Single</td>\n",
       "      <td>Y</td>\n",
       "      <td>Yes</td>\n",
       "    </tr>\n",
       "    <tr>\n",
       "      <th>1</th>\n",
       "      <td>Travel_Frequently</td>\n",
       "      <td>Research &amp; Development</td>\n",
       "      <td>Life Sciences</td>\n",
       "      <td>Male</td>\n",
       "      <td>Research Scientist</td>\n",
       "      <td>Married</td>\n",
       "      <td>Y</td>\n",
       "      <td>No</td>\n",
       "    </tr>\n",
       "    <tr>\n",
       "      <th>2</th>\n",
       "      <td>Travel_Rarely</td>\n",
       "      <td>Research &amp; Development</td>\n",
       "      <td>Other</td>\n",
       "      <td>Male</td>\n",
       "      <td>Laboratory Technician</td>\n",
       "      <td>Single</td>\n",
       "      <td>Y</td>\n",
       "      <td>Yes</td>\n",
       "    </tr>\n",
       "    <tr>\n",
       "      <th>3</th>\n",
       "      <td>Travel_Frequently</td>\n",
       "      <td>Research &amp; Development</td>\n",
       "      <td>Life Sciences</td>\n",
       "      <td>Female</td>\n",
       "      <td>Research Scientist</td>\n",
       "      <td>Married</td>\n",
       "      <td>Y</td>\n",
       "      <td>Yes</td>\n",
       "    </tr>\n",
       "    <tr>\n",
       "      <th>4</th>\n",
       "      <td>Travel_Rarely</td>\n",
       "      <td>Research &amp; Development</td>\n",
       "      <td>Medical</td>\n",
       "      <td>Male</td>\n",
       "      <td>Laboratory Technician</td>\n",
       "      <td>Married</td>\n",
       "      <td>Y</td>\n",
       "      <td>No</td>\n",
       "    </tr>\n",
       "  </tbody>\n",
       "</table>\n",
       "</div>"
      ],
      "text/plain": [
       "      BusinessTravel              Department EducationField  Gender  \\\n",
       "0      Travel_Rarely                   Sales  Life Sciences  Female   \n",
       "1  Travel_Frequently  Research & Development  Life Sciences    Male   \n",
       "2      Travel_Rarely  Research & Development          Other    Male   \n",
       "3  Travel_Frequently  Research & Development  Life Sciences  Female   \n",
       "4      Travel_Rarely  Research & Development        Medical    Male   \n",
       "\n",
       "                 JobRole MaritalStatus Over18 OverTime  \n",
       "0        Sales Executive        Single      Y      Yes  \n",
       "1     Research Scientist       Married      Y       No  \n",
       "2  Laboratory Technician        Single      Y      Yes  \n",
       "3     Research Scientist       Married      Y      Yes  \n",
       "4  Laboratory Technician       Married      Y       No  "
      ]
     },
     "execution_count": 26,
     "metadata": {},
     "output_type": "execute_result"
    }
   ],
   "source": [
    "green_df_enc[categorical_columns].head()"
   ]
  },
  {
   "cell_type": "markdown",
   "id": "800e7753",
   "metadata": {},
   "source": [
    "### Most of the categorical variable will be converted in a One Hot fashion instead of Label Encoding, as the data is unordered. Will drop the encoded column to n-1 to avoid Multicollinearity. This problem is seen in Regression problem, But it can effect Classification problem as well. To be at safer end, we will One Hot encode the data."
   ]
  },
  {
   "cell_type": "markdown",
   "id": "f57b1403",
   "metadata": {},
   "source": [
    "* Encoding data "
   ]
  },
  {
   "cell_type": "code",
   "execution_count": 27,
   "id": "de238e01",
   "metadata": {},
   "outputs": [
    {
     "data": {
      "text/plain": [
       "BusinessTravel\n",
       "Travel_Rarely        1043\n",
       "Travel_Frequently     277\n",
       "Non-Travel            150\n",
       "Name: count, dtype: int64"
      ]
     },
     "execution_count": 27,
     "metadata": {},
     "output_type": "execute_result"
    }
   ],
   "source": [
    "green_df_enc['BusinessTravel'].value_counts()"
   ]
  },
  {
   "cell_type": "code",
   "execution_count": 28,
   "id": "977d3be6",
   "metadata": {},
   "outputs": [
    {
     "data": {
      "text/plain": [
       "Department\n",
       "Research & Development    961\n",
       "Sales                     446\n",
       "Human Resources            63\n",
       "Name: count, dtype: int64"
      ]
     },
     "execution_count": 28,
     "metadata": {},
     "output_type": "execute_result"
    }
   ],
   "source": [
    "green_df_enc['Department'].value_counts()"
   ]
  },
  {
   "cell_type": "code",
   "execution_count": 29,
   "id": "f84e86ad",
   "metadata": {},
   "outputs": [
    {
     "data": {
      "text/plain": [
       "EducationField\n",
       "Life Sciences       606\n",
       "Medical             464\n",
       "Marketing           159\n",
       "Technical Degree    132\n",
       "Other                82\n",
       "Human Resources      27\n",
       "Name: count, dtype: int64"
      ]
     },
     "execution_count": 29,
     "metadata": {},
     "output_type": "execute_result"
    }
   ],
   "source": [
    "green_df_enc['EducationField'].value_counts()"
   ]
  },
  {
   "cell_type": "code",
   "execution_count": 30,
   "id": "90ac2748",
   "metadata": {},
   "outputs": [
    {
     "data": {
      "text/plain": [
       "Gender\n",
       "Male      882\n",
       "Female    588\n",
       "Name: count, dtype: int64"
      ]
     },
     "execution_count": 30,
     "metadata": {},
     "output_type": "execute_result"
    }
   ],
   "source": [
    "green_df_enc['Gender'].value_counts()"
   ]
  },
  {
   "cell_type": "code",
   "execution_count": 31,
   "id": "bf30c42f",
   "metadata": {},
   "outputs": [
    {
     "data": {
      "text/plain": [
       "JobRole\n",
       "Sales Executive              326\n",
       "Research Scientist           292\n",
       "Laboratory Technician        259\n",
       "Manufacturing Director       145\n",
       "Healthcare Representative    131\n",
       "Manager                      102\n",
       "Sales Representative          83\n",
       "Research Director             80\n",
       "Human Resources               52\n",
       "Name: count, dtype: int64"
      ]
     },
     "execution_count": 31,
     "metadata": {},
     "output_type": "execute_result"
    }
   ],
   "source": [
    "green_df_enc['JobRole'].value_counts()"
   ]
  },
  {
   "cell_type": "code",
   "execution_count": 32,
   "id": "80930282",
   "metadata": {},
   "outputs": [
    {
     "data": {
      "text/plain": [
       "MaritalStatus\n",
       "Married     673\n",
       "Single      470\n",
       "Divorced    327\n",
       "Name: count, dtype: int64"
      ]
     },
     "execution_count": 32,
     "metadata": {},
     "output_type": "execute_result"
    }
   ],
   "source": [
    "green_df_enc['MaritalStatus'].value_counts()"
   ]
  },
  {
   "cell_type": "code",
   "execution_count": 33,
   "id": "b5e7990f",
   "metadata": {},
   "outputs": [
    {
     "data": {
      "text/plain": [
       "Over18\n",
       "Y    1470\n",
       "Name: count, dtype: int64"
      ]
     },
     "execution_count": 33,
     "metadata": {},
     "output_type": "execute_result"
    }
   ],
   "source": [
    "green_df_enc['Over18'].value_counts()"
   ]
  },
  {
   "cell_type": "markdown",
   "id": "bae76947",
   "metadata": {},
   "source": [
    "All data in column Over18 is labelled yes. So, we will not need this column."
   ]
  },
  {
   "cell_type": "code",
   "execution_count": 34,
   "id": "bf6a4332",
   "metadata": {},
   "outputs": [
    {
     "data": {
      "text/plain": [
       "OverTime\n",
       "No     1054\n",
       "Yes     416\n",
       "Name: count, dtype: int64"
      ]
     },
     "execution_count": 34,
     "metadata": {},
     "output_type": "execute_result"
    }
   ],
   "source": [
    "green_df_enc['OverTime'].value_counts()"
   ]
  },
  {
   "cell_type": "code",
   "execution_count": 35,
   "id": "acb8c200",
   "metadata": {},
   "outputs": [
    {
     "data": {
      "text/plain": [
       "Attrition\n",
       "No     1233\n",
       "Yes     237\n",
       "Name: count, dtype: int64"
      ]
     },
     "execution_count": 35,
     "metadata": {},
     "output_type": "execute_result"
    }
   ],
   "source": [
    "green_df_enc['Attrition'].value_counts()"
   ]
  },
  {
   "cell_type": "markdown",
   "id": "888ab62c",
   "metadata": {},
   "source": [
    "It is noteworthy that the dataset is imbalanced."
   ]
  },
  {
   "cell_type": "code",
   "execution_count": 36,
   "id": "6f992804",
   "metadata": {},
   "outputs": [
    {
     "name": "stdout",
     "output_type": "stream",
     "text": [
      "[  1   2   4   5   7   8  10  11  12  13  14  15  16  18  19  20  21  22\n",
      "  23  24  26  27  28  30  31  32  33  35  36  38  39  40  41  42  45  46\n",
      "  47  49  51  52  53  54  55  56  57  58  60  61  62  63  64  65  68  70\n",
      "  72  73  74  75  76  77  78  79  80  81  83  84  85  86  88  90  91  94\n",
      "  95  96  97  98 100 101 102 103 104 105 106 107 110 112 113 116 117 118\n",
      " 119 120 121 124 125 126 128 129 131 132 133 134 137 138 139 140 141 142\n",
      " 143 144 145 147 148 150 151 152 153 154 155 158 159 160 161 162 163 164\n",
      " 165 167 169 170 171 174 175 176 177 178 179 182 183 184 190 192 193 194\n",
      " 195 197 198 199 200 201 202 204 205 206 207 208 211 214 215 216 217 218\n",
      " 221 223 224 226 227 228 230 231 233 235 238 239 240 241 242 243 244 245\n",
      " 246 247 248 249 250 252 253 254 256 258 259 260 261 262 264 267 269 270\n",
      " 271 273 274 275 277 281 282 283 284 286 287 288 291 292 293 296 297 298\n",
      " 299 300 302 303 304 305 306 307 308 309 311 312 314 315 316 319 321 323\n",
      " 325 327 328 329 330 331 332 333 334 335 336 337 338 339 340 341 342 343\n",
      " 346 347 349 350 351 352 353 355 359 361 362 363 364 366 367 369 372 373\n",
      " 374 376 377 378 379 380 381 382 384 385 386 387 388 389 390 391 392 393\n",
      " 394 395 396 397 399 401 403 404 405 406 407 408]\n",
      "[ 679  680  682  683  684  686  689  690  691  692  698  699  700  701\n",
      "  702  704  705  707  709  710  712  714  715  716  717  720  721  722\n",
      "  723  724  725  727  728  729  730  731  732  733  734  738  741  742\n",
      "  743  744  746  747  749  752  754  757  758  760  762  763  764  766\n",
      "  769  771  772  773  775  776  780  781  783  784  785  786  787  789\n",
      "  791  792  793  796  797  799  800  802  803  804  805  806  807  808\n",
      "  809  811  812  813  815  816  817  819  820  823  824  825  826  827\n",
      "  828  829  830  832  833  834  836  837  838  840  842  843  844  845\n",
      "  846  847  848  850  851  852  854  855  856  857  859  861  862  864\n",
      "  865  867  868  869  872  874  875  878  879  880  881  882  885  887\n",
      "  888  889  893  894  895  896  897  899  900  901  902  903  904  905\n",
      "  909  910  911  912  913  916  918  920  922  923  924  925  926  927\n",
      "  930  932  933  934  936  939  940  941  942  944  945  947  949  950\n",
      "  951  952  954  956  957  958  959  960  961  964  966  967  969  970\n",
      "  972  974  975  976  977  981  982  983  984  985  986  987  990  991\n",
      "  992  994  995  996  997  998  999 1001 1002 1003 1004 1005 1006 1007\n",
      " 1009 1010 1011 1012 1013 1014 1015 1016 1017 1018 1019 1022 1024 1025\n",
      " 1026 1027 1028 1029 1030 1032 1033 1034 1035 1036 1037 1038 1039 1040\n",
      " 1042 1043 1044 1045 1046 1047 1048 1049 1050 1052 1053 1055 1056 1060\n",
      " 1061 1062 1066 1068 1069 1070 1071 1073 1074 1076 1077 1079 1080 1081\n",
      " 1082 1083 1084 1085 1088 1092 1094 1096 1097 1098 1099 1100 1101 1102\n",
      " 1103 1105 1106 1107 1108 1109]\n",
      "[1648 1649 1650 1651 1653 1654 1655 1656 1657 1658 1659 1661 1662 1664\n",
      " 1665 1666 1667 1668 1669 1670 1671 1673 1674 1675 1676 1677 1678 1680\n",
      " 1681 1682 1683 1684 1687 1689 1691 1692 1693 1694 1696 1697 1698 1700\n",
      " 1701 1702 1703 1704 1706 1707 1708 1709 1710 1712 1714 1716 1718 1719\n",
      " 1720 1721 1722 1724 1725 1727 1728 1729 1731 1732 1733 1734 1735 1736\n",
      " 1737 1739 1740 1744 1745 1746 1747 1749 1751 1752 1753 1754 1755 1756\n",
      " 1757 1758 1760 1761 1762 1763 1764 1766 1767 1768 1770 1771 1772 1774\n",
      " 1775 1778 1779 1780 1782 1783 1784 1786 1787 1789 1790 1792 1794 1797\n",
      " 1798 1799 1800 1801 1802 1803 1804 1805 1807 1809 1812 1813 1814 1815\n",
      " 1816 1818 1821 1822 1823 1824 1826 1827 1829 1830 1833 1834 1835 1836\n",
      " 1837 1839 1842 1844 1845 1847 1849 1850 1852 1853 1854 1856 1857 1858\n",
      " 1859 1860 1862 1863 1864 1865 1866 1867 1868 1869 1870 1871 1873 1875\n",
      " 1876 1878 1880 1881 1882 1883 1885 1886 1888 1890 1892 1893 1898 1900\n",
      " 1903 1905 1907 1908 1909 1911 1912 1915 1916 1918 1922 1924 1927 1928\n",
      " 1929 1931 1932 1933 1934 1935 1936 1937 1938 1939 1940 1941 1943 1944\n",
      " 1945 1947 1948 1949 1950 1951 1952 1954 1955 1956 1960 1961 1962 1965\n",
      " 1966 1967 1968 1969 1970 1971 1972 1973 1974 1975 1976 1979 1980 1981\n",
      " 1982 1985 1986 1987 1989 1992 1993 1994 1995 1996 1997 1998 1999 2000\n",
      " 2003 2007 2008 2009 2010 2012 2013 2014 2015 2016 2017 2018 2019 2020\n",
      " 2021 2022 2023 2024 2025 2026 2027 2031 2032 2034 2035 2036 2037 2038\n",
      " 2040 2041 2044 2045 2046 2048 2049 2051 2052 2053 2054 2055 2056 2057\n",
      " 2060 2061 2062 2064 2065 2068]\n"
     ]
    }
   ],
   "source": [
    "# First 300 values \n",
    "print(green_df_enc['EmployeeNumber'].values[:300])\n",
    "\n",
    "# Mid 300 values\n",
    "print(green_df_enc['EmployeeNumber'].values[500:800])\n",
    "\n",
    "# Last 300 values\n",
    "print(green_df_enc['EmployeeNumber'].values[-300:])"
   ]
  },
  {
   "cell_type": "markdown",
   "id": "a2e104ef",
   "metadata": {},
   "source": [
    "The above value indicated that EmployeeNumber is acting either as a Foreing key or it is general ID. Which we will not needed for ML."
   ]
  },
  {
   "cell_type": "markdown",
   "id": "08ca56cd",
   "metadata": {},
   "source": [
    "* EmployeeCount, Over18 and StandardHours are constant values. It won't help us in prediction.\n",
    "* EmplyeeNumber is not useful for ML, rather it will mislead the model by making it think about employee order.\n",
    "* Attrition column is duplicated. So, it will also be not needed."
   ]
  },
  {
   "cell_type": "code",
   "execution_count": 37,
   "id": "0734ab63",
   "metadata": {},
   "outputs": [],
   "source": [
    "green_df_enc.drop(['EmployeeCount', 'StandardHours', 'Over18', 'EmployeeNumber', 'Attrition'], axis=1, inplace=True)"
   ]
  },
  {
   "cell_type": "code",
   "execution_count": 38,
   "id": "44576215",
   "metadata": {
    "scrolled": false
   },
   "outputs": [
    {
     "data": {
      "text/plain": [
       "Age                                      41\n",
       "BusinessTravel                Travel_Rarely\n",
       "DailyRate                              1102\n",
       "Department                            Sales\n",
       "DistanceFromHome                          1\n",
       "Education                                 2\n",
       "EducationField                Life Sciences\n",
       "EnvironmentSatisfaction                   2\n",
       "Gender                               Female\n",
       "HourlyRate                               94\n",
       "JobInvolvement                            3\n",
       "JobLevel                                  2\n",
       "JobRole                     Sales Executive\n",
       "JobSatisfaction                           4\n",
       "MaritalStatus                        Single\n",
       "MonthlyIncome                          5993\n",
       "MonthlyRate                           19479\n",
       "NumCompaniesWorked                        8\n",
       "OverTime                                Yes\n",
       "PercentSalaryHike                        11\n",
       "PerformanceRating                         3\n",
       "RelationshipSatisfaction                  1\n",
       "StockOptionLevel                          0\n",
       "TotalWorkingYears                         8\n",
       "TrainingTimesLastYear                     0\n",
       "WorkLifeBalance                           1\n",
       "YearsAtCompany                            6\n",
       "YearsInCurrentRole                        4\n",
       "YearsSinceLastPromotion                   0\n",
       "YearsWithCurrManager                      5\n",
       "Attrition_n                               1\n",
       "Name: 0, dtype: object"
      ]
     },
     "execution_count": 38,
     "metadata": {},
     "output_type": "execute_result"
    }
   ],
   "source": [
    "green_df_enc.head().loc[0, :]"
   ]
  },
  {
   "cell_type": "markdown",
   "id": "223d7eac",
   "metadata": {},
   "source": [
    "Encoding using Pandas Get Dummies"
   ]
  },
  {
   "cell_type": "code",
   "execution_count": 39,
   "id": "b03b84db",
   "metadata": {},
   "outputs": [],
   "source": [
    "categorical_columns_need_enc = ['BusinessTravel', 'Department', 'EducationField', 'Gender', 'JobRole', 'MaritalStatus', 'OverTime']"
   ]
  },
  {
   "cell_type": "code",
   "execution_count": 40,
   "id": "aa96491d",
   "metadata": {},
   "outputs": [
    {
     "data": {
      "text/html": [
       "<div>\n",
       "<style scoped>\n",
       "    .dataframe tbody tr th:only-of-type {\n",
       "        vertical-align: middle;\n",
       "    }\n",
       "\n",
       "    .dataframe tbody tr th {\n",
       "        vertical-align: top;\n",
       "    }\n",
       "\n",
       "    .dataframe thead th {\n",
       "        text-align: right;\n",
       "    }\n",
       "</style>\n",
       "<table border=\"1\" class=\"dataframe\">\n",
       "  <thead>\n",
       "    <tr style=\"text-align: right;\">\n",
       "      <th></th>\n",
       "      <th>Age</th>\n",
       "      <th>DailyRate</th>\n",
       "      <th>DistanceFromHome</th>\n",
       "      <th>Education</th>\n",
       "      <th>EnvironmentSatisfaction</th>\n",
       "      <th>HourlyRate</th>\n",
       "      <th>JobInvolvement</th>\n",
       "      <th>JobLevel</th>\n",
       "      <th>JobSatisfaction</th>\n",
       "      <th>MonthlyIncome</th>\n",
       "      <th>...</th>\n",
       "      <th>JobRole_Manufacturing Director</th>\n",
       "      <th>JobRole_Research Director</th>\n",
       "      <th>JobRole_Research Scientist</th>\n",
       "      <th>JobRole_Sales Executive</th>\n",
       "      <th>JobRole_Sales Representative</th>\n",
       "      <th>MaritalStatus_Divorced</th>\n",
       "      <th>MaritalStatus_Married</th>\n",
       "      <th>MaritalStatus_Single</th>\n",
       "      <th>OverTime_No</th>\n",
       "      <th>OverTime_Yes</th>\n",
       "    </tr>\n",
       "  </thead>\n",
       "  <tbody>\n",
       "    <tr>\n",
       "      <th>0</th>\n",
       "      <td>41</td>\n",
       "      <td>1102</td>\n",
       "      <td>1</td>\n",
       "      <td>2</td>\n",
       "      <td>2</td>\n",
       "      <td>94</td>\n",
       "      <td>3</td>\n",
       "      <td>2</td>\n",
       "      <td>4</td>\n",
       "      <td>5993</td>\n",
       "      <td>...</td>\n",
       "      <td>False</td>\n",
       "      <td>False</td>\n",
       "      <td>False</td>\n",
       "      <td>True</td>\n",
       "      <td>False</td>\n",
       "      <td>False</td>\n",
       "      <td>False</td>\n",
       "      <td>True</td>\n",
       "      <td>False</td>\n",
       "      <td>True</td>\n",
       "    </tr>\n",
       "    <tr>\n",
       "      <th>1</th>\n",
       "      <td>49</td>\n",
       "      <td>279</td>\n",
       "      <td>8</td>\n",
       "      <td>1</td>\n",
       "      <td>3</td>\n",
       "      <td>61</td>\n",
       "      <td>2</td>\n",
       "      <td>2</td>\n",
       "      <td>2</td>\n",
       "      <td>5130</td>\n",
       "      <td>...</td>\n",
       "      <td>False</td>\n",
       "      <td>False</td>\n",
       "      <td>True</td>\n",
       "      <td>False</td>\n",
       "      <td>False</td>\n",
       "      <td>False</td>\n",
       "      <td>True</td>\n",
       "      <td>False</td>\n",
       "      <td>True</td>\n",
       "      <td>False</td>\n",
       "    </tr>\n",
       "    <tr>\n",
       "      <th>2</th>\n",
       "      <td>37</td>\n",
       "      <td>1373</td>\n",
       "      <td>2</td>\n",
       "      <td>2</td>\n",
       "      <td>4</td>\n",
       "      <td>92</td>\n",
       "      <td>2</td>\n",
       "      <td>1</td>\n",
       "      <td>3</td>\n",
       "      <td>2090</td>\n",
       "      <td>...</td>\n",
       "      <td>False</td>\n",
       "      <td>False</td>\n",
       "      <td>False</td>\n",
       "      <td>False</td>\n",
       "      <td>False</td>\n",
       "      <td>False</td>\n",
       "      <td>False</td>\n",
       "      <td>True</td>\n",
       "      <td>False</td>\n",
       "      <td>True</td>\n",
       "    </tr>\n",
       "    <tr>\n",
       "      <th>3</th>\n",
       "      <td>33</td>\n",
       "      <td>1392</td>\n",
       "      <td>3</td>\n",
       "      <td>4</td>\n",
       "      <td>4</td>\n",
       "      <td>56</td>\n",
       "      <td>3</td>\n",
       "      <td>1</td>\n",
       "      <td>3</td>\n",
       "      <td>2909</td>\n",
       "      <td>...</td>\n",
       "      <td>False</td>\n",
       "      <td>False</td>\n",
       "      <td>True</td>\n",
       "      <td>False</td>\n",
       "      <td>False</td>\n",
       "      <td>False</td>\n",
       "      <td>True</td>\n",
       "      <td>False</td>\n",
       "      <td>False</td>\n",
       "      <td>True</td>\n",
       "    </tr>\n",
       "    <tr>\n",
       "      <th>4</th>\n",
       "      <td>27</td>\n",
       "      <td>591</td>\n",
       "      <td>2</td>\n",
       "      <td>1</td>\n",
       "      <td>1</td>\n",
       "      <td>40</td>\n",
       "      <td>3</td>\n",
       "      <td>1</td>\n",
       "      <td>2</td>\n",
       "      <td>3468</td>\n",
       "      <td>...</td>\n",
       "      <td>False</td>\n",
       "      <td>False</td>\n",
       "      <td>False</td>\n",
       "      <td>False</td>\n",
       "      <td>False</td>\n",
       "      <td>False</td>\n",
       "      <td>True</td>\n",
       "      <td>False</td>\n",
       "      <td>True</td>\n",
       "      <td>False</td>\n",
       "    </tr>\n",
       "  </tbody>\n",
       "</table>\n",
       "<p>5 rows × 52 columns</p>\n",
       "</div>"
      ],
      "text/plain": [
       "   Age  DailyRate  DistanceFromHome  Education  EnvironmentSatisfaction  \\\n",
       "0   41       1102                 1          2                        2   \n",
       "1   49        279                 8          1                        3   \n",
       "2   37       1373                 2          2                        4   \n",
       "3   33       1392                 3          4                        4   \n",
       "4   27        591                 2          1                        1   \n",
       "\n",
       "   HourlyRate  JobInvolvement  JobLevel  JobSatisfaction  MonthlyIncome  ...  \\\n",
       "0          94               3         2                4           5993  ...   \n",
       "1          61               2         2                2           5130  ...   \n",
       "2          92               2         1                3           2090  ...   \n",
       "3          56               3         1                3           2909  ...   \n",
       "4          40               3         1                2           3468  ...   \n",
       "\n",
       "   JobRole_Manufacturing Director  JobRole_Research Director  \\\n",
       "0                           False                      False   \n",
       "1                           False                      False   \n",
       "2                           False                      False   \n",
       "3                           False                      False   \n",
       "4                           False                      False   \n",
       "\n",
       "   JobRole_Research Scientist  JobRole_Sales Executive  \\\n",
       "0                       False                     True   \n",
       "1                        True                    False   \n",
       "2                       False                    False   \n",
       "3                        True                    False   \n",
       "4                       False                    False   \n",
       "\n",
       "   JobRole_Sales Representative  MaritalStatus_Divorced  \\\n",
       "0                         False                   False   \n",
       "1                         False                   False   \n",
       "2                         False                   False   \n",
       "3                         False                   False   \n",
       "4                         False                   False   \n",
       "\n",
       "   MaritalStatus_Married  MaritalStatus_Single  OverTime_No  OverTime_Yes  \n",
       "0                  False                  True        False          True  \n",
       "1                   True                 False         True         False  \n",
       "2                  False                  True        False          True  \n",
       "3                   True                 False        False          True  \n",
       "4                   True                 False         True         False  \n",
       "\n",
       "[5 rows x 52 columns]"
      ]
     },
     "metadata": {},
     "output_type": "display_data"
    }
   ],
   "source": [
    "# Use pandas get_dummies to one-hot encode the categorical columns\n",
    "green_df_enc = pd.get_dummies(green_df_enc, columns=categorical_columns_need_enc, drop_first=False)\n",
    "\n",
    "# Check the result\n",
    "display(green_df_enc.head())"
   ]
  },
  {
   "cell_type": "code",
   "execution_count": 41,
   "id": "6a532f44",
   "metadata": {},
   "outputs": [
    {
     "data": {
      "text/plain": [
       "Age                                     41\n",
       "DailyRate                             1102\n",
       "DistanceFromHome                         1\n",
       "Education                                2\n",
       "EnvironmentSatisfaction                  2\n",
       "HourlyRate                              94\n",
       "JobInvolvement                           3\n",
       "JobLevel                                 2\n",
       "JobSatisfaction                          4\n",
       "MonthlyIncome                         5993\n",
       "MonthlyRate                          19479\n",
       "NumCompaniesWorked                       8\n",
       "PercentSalaryHike                       11\n",
       "PerformanceRating                        3\n",
       "RelationshipSatisfaction                 1\n",
       "StockOptionLevel                         0\n",
       "TotalWorkingYears                        8\n",
       "TrainingTimesLastYear                    0\n",
       "WorkLifeBalance                          1\n",
       "YearsAtCompany                           6\n",
       "YearsInCurrentRole                       4\n",
       "YearsSinceLastPromotion                  0\n",
       "YearsWithCurrManager                     5\n",
       "Attrition_n                              1\n",
       "BusinessTravel_Non-Travel            False\n",
       "BusinessTravel_Travel_Frequently     False\n",
       "BusinessTravel_Travel_Rarely          True\n",
       "Department_Human Resources           False\n",
       "Department_Research & Development    False\n",
       "Department_Sales                      True\n",
       "EducationField_Human Resources       False\n",
       "EducationField_Life Sciences          True\n",
       "EducationField_Marketing             False\n",
       "EducationField_Medical               False\n",
       "EducationField_Other                 False\n",
       "EducationField_Technical Degree      False\n",
       "Gender_Female                         True\n",
       "Gender_Male                          False\n",
       "JobRole_Healthcare Representative    False\n",
       "JobRole_Human Resources              False\n",
       "JobRole_Laboratory Technician        False\n",
       "JobRole_Manager                      False\n",
       "JobRole_Manufacturing Director       False\n",
       "JobRole_Research Director            False\n",
       "JobRole_Research Scientist           False\n",
       "JobRole_Sales Executive               True\n",
       "JobRole_Sales Representative         False\n",
       "MaritalStatus_Divorced               False\n",
       "MaritalStatus_Married                False\n",
       "MaritalStatus_Single                  True\n",
       "OverTime_No                          False\n",
       "OverTime_Yes                          True\n",
       "Name: 0, dtype: object"
      ]
     },
     "execution_count": 41,
     "metadata": {},
     "output_type": "execute_result"
    }
   ],
   "source": [
    "green_df_enc.head().loc[0, :]"
   ]
  },
  {
   "cell_type": "code",
   "execution_count": 42,
   "id": "1f518d74",
   "metadata": {},
   "outputs": [
    {
     "data": {
      "text/plain": [
       "Age                                  int64\n",
       "DailyRate                            int64\n",
       "DistanceFromHome                     int64\n",
       "Education                            int64\n",
       "EnvironmentSatisfaction              int64\n",
       "HourlyRate                           int64\n",
       "JobInvolvement                       int64\n",
       "JobLevel                             int64\n",
       "JobSatisfaction                      int64\n",
       "MonthlyIncome                        int64\n",
       "MonthlyRate                          int64\n",
       "NumCompaniesWorked                   int64\n",
       "PercentSalaryHike                    int64\n",
       "PerformanceRating                    int64\n",
       "RelationshipSatisfaction             int64\n",
       "StockOptionLevel                     int64\n",
       "TotalWorkingYears                    int64\n",
       "TrainingTimesLastYear                int64\n",
       "WorkLifeBalance                      int64\n",
       "YearsAtCompany                       int64\n",
       "YearsInCurrentRole                   int64\n",
       "YearsSinceLastPromotion              int64\n",
       "YearsWithCurrManager                 int64\n",
       "Attrition_n                          int64\n",
       "BusinessTravel_Non-Travel             bool\n",
       "BusinessTravel_Travel_Frequently      bool\n",
       "BusinessTravel_Travel_Rarely          bool\n",
       "Department_Human Resources            bool\n",
       "Department_Research & Development     bool\n",
       "Department_Sales                      bool\n",
       "EducationField_Human Resources        bool\n",
       "EducationField_Life Sciences          bool\n",
       "EducationField_Marketing              bool\n",
       "EducationField_Medical                bool\n",
       "EducationField_Other                  bool\n",
       "EducationField_Technical Degree       bool\n",
       "Gender_Female                         bool\n",
       "Gender_Male                           bool\n",
       "JobRole_Healthcare Representative     bool\n",
       "JobRole_Human Resources               bool\n",
       "JobRole_Laboratory Technician         bool\n",
       "JobRole_Manager                       bool\n",
       "JobRole_Manufacturing Director        bool\n",
       "JobRole_Research Director             bool\n",
       "JobRole_Research Scientist            bool\n",
       "JobRole_Sales Executive               bool\n",
       "JobRole_Sales Representative          bool\n",
       "MaritalStatus_Divorced                bool\n",
       "MaritalStatus_Married                 bool\n",
       "MaritalStatus_Single                  bool\n",
       "OverTime_No                           bool\n",
       "OverTime_Yes                          bool\n",
       "dtype: object"
      ]
     },
     "execution_count": 42,
     "metadata": {},
     "output_type": "execute_result"
    }
   ],
   "source": [
    "green_df_enc.dtypes"
   ]
  },
  {
   "cell_type": "markdown",
   "id": "aa31e0a3",
   "metadata": {},
   "source": [
    "Converting the above bool data type to integer."
   ]
  },
  {
   "cell_type": "code",
   "execution_count": 43,
   "id": "4373b475",
   "metadata": {},
   "outputs": [],
   "source": [
    "green_df_enc = green_df_enc.astype(int)"
   ]
  },
  {
   "cell_type": "code",
   "execution_count": 44,
   "id": "b61f2b52",
   "metadata": {},
   "outputs": [
    {
     "data": {
      "text/plain": [
       "Age                                     41\n",
       "DailyRate                             1102\n",
       "DistanceFromHome                         1\n",
       "Education                                2\n",
       "EnvironmentSatisfaction                  2\n",
       "HourlyRate                              94\n",
       "JobInvolvement                           3\n",
       "JobLevel                                 2\n",
       "JobSatisfaction                          4\n",
       "MonthlyIncome                         5993\n",
       "MonthlyRate                          19479\n",
       "NumCompaniesWorked                       8\n",
       "PercentSalaryHike                       11\n",
       "PerformanceRating                        3\n",
       "RelationshipSatisfaction                 1\n",
       "StockOptionLevel                         0\n",
       "TotalWorkingYears                        8\n",
       "TrainingTimesLastYear                    0\n",
       "WorkLifeBalance                          1\n",
       "YearsAtCompany                           6\n",
       "YearsInCurrentRole                       4\n",
       "YearsSinceLastPromotion                  0\n",
       "YearsWithCurrManager                     5\n",
       "Attrition_n                              1\n",
       "BusinessTravel_Non-Travel                0\n",
       "BusinessTravel_Travel_Frequently         0\n",
       "BusinessTravel_Travel_Rarely             1\n",
       "Department_Human Resources               0\n",
       "Department_Research & Development        0\n",
       "Department_Sales                         1\n",
       "EducationField_Human Resources           0\n",
       "EducationField_Life Sciences             1\n",
       "EducationField_Marketing                 0\n",
       "EducationField_Medical                   0\n",
       "EducationField_Other                     0\n",
       "EducationField_Technical Degree          0\n",
       "Gender_Female                            1\n",
       "Gender_Male                              0\n",
       "JobRole_Healthcare Representative        0\n",
       "JobRole_Human Resources                  0\n",
       "JobRole_Laboratory Technician            0\n",
       "JobRole_Manager                          0\n",
       "JobRole_Manufacturing Director           0\n",
       "JobRole_Research Director                0\n",
       "JobRole_Research Scientist               0\n",
       "JobRole_Sales Executive                  1\n",
       "JobRole_Sales Representative             0\n",
       "MaritalStatus_Divorced                   0\n",
       "MaritalStatus_Married                    0\n",
       "MaritalStatus_Single                     1\n",
       "OverTime_No                              0\n",
       "OverTime_Yes                             1\n",
       "Name: 0, dtype: int32"
      ]
     },
     "execution_count": 44,
     "metadata": {},
     "output_type": "execute_result"
    }
   ],
   "source": [
    "green_df_enc.loc[0, :]"
   ]
  },
  {
   "cell_type": "markdown",
   "id": "d13b4f45",
   "metadata": {},
   "source": [
    "Great!!! Now, we are ready to save the data into csv"
   ]
  },
  {
   "cell_type": "code",
   "execution_count": 45,
   "id": "15645516",
   "metadata": {},
   "outputs": [],
   "source": [
    "green_df_enc.to_csv('Others//green_dest_enc_ml_ready.csv', index=False)"
   ]
  },
  {
   "cell_type": "markdown",
   "id": "2cc70eb6",
   "metadata": {},
   "source": [
    "## Impressions from Analysis\n",
    "\n",
    "1. **Single employees** are more likely to leave the company compared to those who are married or in a relationship.\n",
    "2. **Employees working overtime** are at a higher risk of attrition.\n",
    "3. **Lower-income employees** are more likely to leave than those earning higher salaries.\n",
    "4. The **Laboratory Technician** job role has the **highest attrition**, while **Research Directors** have the **lowest**.\n",
    "5. **Older employees** tend to stay longer and are less likely to leave the company.\n",
    "\n",
    "### Correlation Heatmap Observations:\n",
    "\n",
    "- **Weak Overall Correlation**:  \n",
    "  Most numerical features show weak linear correlation (|r| < 0.2) with attrition, suggesting no strong linear predictors. However, some patterns are still useful.\n",
    "\n",
    "- **Negative Correlations (Retention Indicators)**:  \n",
    "  These features are negatively correlated with attrition — higher values are associated with employees staying:\n",
    "  - `TotalWorkingYears` (-0.17)\n",
    "  - `JobLevel` (-0.17)\n",
    "  - `YearsInCurrentRole` (-0.16)\n",
    "  - `MonthlyIncome` (-0.16)\n",
    "  - `Age` (-0.16)\n",
    "  - `YearsWithCurrManager` (-0.16)\n",
    "\n",
    "  **Interpretation**: More experienced, older, higher-level employees with higher income and longer tenure are less likely to leave.\n",
    "\n",
    "- **Positive Correlation (Attrition Risk)**:\n",
    "  - `DistanceFromHome` (+0.08): Employees living farther from the workplace may be slightly more likely to leave.\n",
    "\n",
    "- **Low or No Correlation**:\n",
    "  - `HourlyRate`, `PerformanceRating`, and `MonthlyRate` have near-zero correlation with attrition.\n",
    "\n",
    "- **NaN or Constant Values**:\n",
    "  - `EmployeeCount` and `StandardHours` have only one value (1 and 80 respectively), making them uninformative.\n",
    "\n",
    "---\n",
    "\n",
    "## 🤖 Implications for Machine Learning\n",
    "\n",
    "- **EmployeeNumber**: Acts like a primary key or foreign key. Since it's just an identifier with no predictive value, it should be **excluded from ML models**.\n",
    "  \n",
    "- **EmployeeCount**, **Over18**, and **StandardHours**: These are **constant columns** and do not provide any variability for prediction — should be dropped.\n",
    "\n",
    "- **Attrition column duplication**: If a duplicate of the target column (`Attrition`) exists, it should be **removed** to prevent data leakage or redundancy.\n",
    "\n",
    "- **Suggestions**: Focusing on variables with moderate correlation and meaningful business context (like overtime, income, age, and tenure) will likely yield better model performance.\n"
   ]
  }
 ],
 "metadata": {
  "kernelspec": {
   "display_name": "Python 3 (ipykernel)",
   "language": "python",
   "name": "python3"
  },
  "language_info": {
   "codemirror_mode": {
    "name": "ipython",
    "version": 3
   },
   "file_extension": ".py",
   "mimetype": "text/x-python",
   "name": "python",
   "nbconvert_exporter": "python",
   "pygments_lexer": "ipython3",
   "version": "3.11.5"
  }
 },
 "nbformat": 4,
 "nbformat_minor": 5
}
